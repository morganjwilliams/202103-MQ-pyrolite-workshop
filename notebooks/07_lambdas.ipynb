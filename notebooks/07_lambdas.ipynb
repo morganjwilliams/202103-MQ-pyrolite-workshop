{
 "cells": [
  {
   "cell_type": "markdown",
   "metadata": {},
   "source": [
    "| [**Overview**](./00_overview.ipynb) | [Getting Started](./01_jupyter_python.ipynb) | **Examples:** | [Access](./02_accessing_indexing.ipynb) | [Transform](./03_transform.ipynb) | [Plotting](./04_simple_vis.ipynb) | [Norm-Spiders](./05_norm_spiders.ipynb) | [Minerals](./06_minerals.ipynb) | [lambdas](./07_lambdas.ipynb) |\n",
    "| ----------------------------------- | -------------------------------------------- | ------------- | --------------------------------------- | --------------------------------- | --------------------------------- | --------------------------------------- | ------------------------------- | ----------------------------- |\n",
    "\n",
    "# lambdas: Paramaterising REE Profiles\n",
    "##### *~10 min*\n",
    "\n",
    "Orthogonal polynomial decomposition can be used for dimensional reduction of smooth\n",
    "function over an independent variable, producing an array of independent values\n",
    "representing the relative weights for each order of component polynomial. This is an\n",
    "effective method to parameterise and compare the nature of smooth profiles.\n",
    "\n",
    "In geochemistry, the most applicable use case is for reduction Rare Earth Element (REE)\n",
    "profiles. The REE are a collection of elements with broadly similar physicochemical\n",
    "properties (the lanthanides), which vary with ionic radii. Given their similar behaviour\n",
    "and typically smooth function of normalised abundance vs. ionic radii, the REE profiles\n",
    "and their shapes can be effectively parameterised and dimensionally reduced (14 elements\n",
    "summarised by 3-4 shape parameters).\n",
    "\n",
    "Here we generate some example data, reduce these to lambda values, and visualise the\n",
    "results."
   ]
  },
  {
   "cell_type": "code",
   "execution_count": 1,
   "metadata": {},
   "outputs": [],
   "source": [
    "import numpy as np\n",
    "import pandas as pd\n",
    "import matplotlib.pyplot as plt\n",
    "import pyrolite.plot\n",
    "\n",
    "np.random.seed(82)"
   ]
  },
  {
   "cell_type": "markdown",
   "metadata": {},
   "source": [
    "First we'll generate some example **synthetic data** based around Depleted MORB Mantle:"
   ]
  },
  {
   "cell_type": "code",
   "execution_count": null,
   "metadata": {
    "collapsed": false,
    "jupyter": {
     "outputs_hidden": false
    }
   },
   "outputs": [],
   "source": [
    "from pyrolite.util.synthetic import example_spider_data\n",
    "\n",
    "df = example_spider_data(\n",
    "    noise_level=0.1,\n",
    "    size=100,\n",
    "    start=\"DM_SS2004\",\n",
    "    norm_to=\"ChondriteREE_ON\",\n",
    "    offsets={\"Eu\": 0.2},\n",
    ")\n",
    "df = df.pyrochem.denormalize_from(\"ChondriteREE_ON\") # start with unnormalised data!"
   ]
  },
  {
   "cell_type": "markdown",
   "metadata": {},
   "source": [
    "Let's have a quick look at what this REE data looks like normalized to Primitive\n",
    "Mantle:\n",
    "\n",
    "\n"
   ]
  },
  {
   "cell_type": "code",
   "execution_count": null,
   "metadata": {
    "collapsed": false,
    "jupyter": {
     "outputs_hidden": false
    }
   },
   "outputs": [],
   "source": [
    "df.pyrochem.normalize_to(\"ChondriteREE_ON\").pyroplot.REE(alpha=0.05, c=\"k\", unity_line=True)\n",
    "plt.show()"
   ]
  },
  {
   "cell_type": "markdown",
   "metadata": {},
   "source": [
    "From this REE data we can fit a series of orthogonal polynomials, and subsequently used\n",
    "the regression coefficients ('lambdas') as a parameterisation of the REE\n",
    "pattern/profile:\n",
    "\n",
    "\n"
   ]
  },
  {
   "cell_type": "code",
   "execution_count": null,
   "metadata": {
    "collapsed": false,
    "jupyter": {
     "outputs_hidden": false
    }
   },
   "outputs": [],
   "source": [
    "ls = df.pyrochem.lambda_lnREE(degree=4)\n",
    "ls.head(2)"
   ]
  },
  {
   "cell_type": "markdown",
   "metadata": {},
   "source": [
    "So what's actually happening here? To get some idea of what these λ coefficients\n",
    "correspond to, we can pull this process apart and visualise our REE profiles as\n",
    "the sum of the series of orthogonal polynomial components of increasing order.\n",
    "As lambdas represent the coefficients for the regression of log-transformed normalised\n",
    "data, to compare the polynomial components and our REE profile we'll first need to\n",
    "normalize it to the appropriate composition (here `\"ChondriteREE_ON\"`) before\n",
    "taking the logarithm.\n",
    "\n",
    "With our data, we've then fit a function of ionic radius with the form\n",
    "$f(r) = \\lambda_0 + \\lambda_1 f_1 + \\lambda_2 f_2 + \\lambda_3 f_3...$\n",
    "where the polynomial components of increasing order are $f_1 = (r - \\beta_0)$,\n",
    "$f_2 = (r - \\gamma_0)(r - \\gamma_1)$,\n",
    "$f_3 = (r - \\delta_0)(r - \\delta_1)(r - \\delta_2)$ and so on. The parameters\n",
    "$\\beta$, $\\gamma$, $\\delta$ are pre-computed such that the\n",
    "polynomial components are indeed independent. Here we can visualise how these\n",
    "polynomial components are summed to produce the regressed profile, using the last REE\n",
    "profile we generated above as an example:\n",
    "\n",
    "\n"
   ]
  },
  {
   "cell_type": "code",
   "execution_count": null,
   "metadata": {
    "collapsed": false,
    "jupyter": {
     "outputs_hidden": false
    }
   },
   "outputs": [],
   "source": [
    "from pyrolite.util.lambdas.plot import plot_lambdas_components\n",
    "\n",
    "ax = (\n",
    "    df.pyrochem.normalize_to(\"ChondriteREE_ON\")\n",
    "    .iloc[-1, :]\n",
    "    .apply(np.log)\n",
    "    .pyroplot.REE(color=\"k\", label=\"Data\", logy=False)\n",
    ")\n",
    "\n",
    "plot_lambdas_components(ls.iloc[-1, :], ax=ax)\n",
    "\n",
    "ax.legend()\n",
    "plt.show()"
   ]
  },
  {
   "cell_type": "markdown",
   "metadata": {},
   "source": [
    "Now that we've gone through a brief introduction to how the lambdas are generated,\n",
    "let's quickly check what the coefficient values themselves look like:\n",
    "\n",
    "\n"
   ]
  },
  {
   "cell_type": "code",
   "execution_count": null,
   "metadata": {
    "collapsed": false,
    "jupyter": {
     "outputs_hidden": false
    }
   },
   "outputs": [],
   "source": [
    "fig, ax = plt.subplots(1, 3, figsize=(9, 3))\n",
    "for ix in range(ls.columns.size - 1):\n",
    "    ls[ls.columns[ix : ix + 2]].pyroplot.scatter(ax=ax[ix], alpha=0.1, c=\"k\")\n",
    "\n",
    "plt.tight_layout()"
   ]
  },
  {
   "cell_type": "markdown",
   "metadata": {},
   "source": [
    "But what do these parameters correspond to? From the deconstructed orthogonal\n",
    "polynomial above, we can see that $\\lambda_0$ parameterises relative enrichment\n",
    "(this is the mean value of the logarithm of Chondrite-normalised REE abundances),\n",
    "$\\lambda_1$ parameterises a linear slope (here, LREE enrichment), and higher\n",
    "order terms describe curvature of the REE pattern. Through this parameterisation,\n",
    "the REE profile can be effectively described and directly linked to geochemical\n",
    "processes. While the amount of data we need to describe the patterns is lessened,\n",
    "the values themselves are more meaningful and readily used to describe the profiles\n",
    "and their physical significance.\n",
    "\n",
    "The visualisation of $\\lambda_1$-$\\lambda_2$ can be particularly useful\n",
    "where you're trying to compare REE profiles.\n",
    "\n",
    "We've used a synthetic dataset here which is by design approximately normally\n",
    "distributed, so the values themeselves here are not particularly revealing,\n",
    "but they do illustrate the expected mangitudes of values for each of the parameters.\n",
    "\n",
    "\n"
   ]
  },
  {
   "cell_type": "markdown",
   "metadata": {},
   "source": [
    "----\n",
    "<div class='alert alert-warning'> <b> <font size=\"+1\">Checkpoint & Time Check</font></b><br>How are things going?</div>\n",
    "\n",
    "----"
   ]
  },
  {
   "cell_type": "markdown",
   "metadata": {},
   "source": [
    "## Dealing With Anomalies\n",
    "Note that we've not used Eu in this regression - Eu anomalies are a deviation from\n",
    "the 'smooth profile' we need to use this method. Consider this if your data might also\n",
    "exhibit significant Ce anomalies, you might need to exclude this data. For convenience\n",
    "there is also functionality to calculate anomalies derived from the orthogonal\n",
    "polynomial fit itself (rather than linear interpolation methods). Below we use the\n",
    "`anomalies` keyword argument to also calculate the $\\frac{Ce}{Ce*}$\n",
    "and $\\frac{Eu}{Eu*}$ anomalies (note that these are excluded from the fit):"
   ]
  },
  {
   "cell_type": "code",
   "execution_count": null,
   "metadata": {
    "collapsed": false,
    "jupyter": {
     "outputs_hidden": false
    }
   },
   "outputs": [],
   "source": [
    "ls_anomalies = df.pyrochem.lambda_lnREE(anomalies=[\"Ce\", \"Eu\"])\n",
    "ax = ls_anomalies.iloc[:, -2:].pyroplot.scatter(color=\"0.5\")"
   ]
  },
  {
   "cell_type": "markdown",
   "metadata": {},
   "source": [
    "## Coefficient Uncertainties and Fit Quality\n",
    "\n",
    "In order to determine the relative significance of the parameterisation and\n",
    "'goodness of fit', the functions are able to estimate uncertainties on the returned\n",
    "coefficients (lambdas and taus) and will also return the chi-square value\n",
    "($\\chi^2$; equivalent to the MSWD) where requested. This will be appended to the\n",
    "end of the dataframe. Note that if you do not supply an estimate of observed value\n",
    "uncertainties a default of 1% of the log-mean will be used.\n",
    "\n",
    "To append the reduced chi-square for each row, the keyword argument\n",
    "`add_X2=True` can be used; here we've estimated 5% uncertainty on the\n",
    "REE.\n"
   ]
  },
  {
   "cell_type": "code",
   "execution_count": null,
   "metadata": {
    "collapsed": false,
    "jupyter": {
     "outputs_hidden": false
    }
   },
   "outputs": [],
   "source": [
    "ls = df.pyrochem.lambda_lnREE(add_X2=True, sigmas=0.05, anomalies=[\"Eu\", \"Ce\"])\n",
    "ls.columns"
   ]
  },
  {
   "cell_type": "markdown",
   "metadata": {},
   "source": [
    "We can have a quick look at the $\\chi^2$ values look like for the synthetic\n",
    "dataset, given the assumed 10% uncertainties. While the fit appears reasonable for a good\n",
    "fraction of the dataset (~2 and below), for some rows it is notably worse:\n",
    "\n",
    "\n"
   ]
  },
  {
   "cell_type": "code",
   "execution_count": null,
   "metadata": {
    "collapsed": false,
    "jupyter": {
     "outputs_hidden": false
    }
   },
   "outputs": [],
   "source": [
    "ax = ls[\"X2\"].plot.hist(bins=40, color=\"0.5\")\n",
    "ax.set(xlabel=\"$\\chi^2$\")\n",
    "ax.axvline(1, color=\"k\", ls=\"--\")\n",
    "plt.show()"
   ]
  },
  {
   "cell_type": "markdown",
   "metadata": {},
   "source": [
    "We can also examine the estimated uncertainties on the coefficients from the fit\n",
    "by adding the keyword argument `add_uncertainties=True` (note: these do not\n",
    "explicitly propagate observation uncertainties):"
   ]
  },
  {
   "cell_type": "code",
   "execution_count": null,
   "metadata": {
    "collapsed": false,
    "jupyter": {
     "outputs_hidden": false
    }
   },
   "outputs": [],
   "source": [
    "ls = df.pyrochem.lambda_lnREE(add_uncertainties=True)\n",
    "ls.columns"
   ]
  },
  {
   "cell_type": "markdown",
   "metadata": {},
   "source": [
    "We can have a look at what these uncertainties look like, noting that the principal differences between our samples are in λ0, as might be expected from how the random dataset is generated:"
   ]
  },
  {
   "cell_type": "code",
   "execution_count": null,
   "metadata": {
    "collapsed": false,
    "jupyter": {
     "outputs_hidden": false
    }
   },
   "outputs": [],
   "source": [
    "fig, ax = plt.subplots(1, 3, figsize=(9, 3))\n",
    "ax = ax.flat\n",
    "dc = ls.columns.size // 2\n",
    "for ix, a in enumerate(ls.columns[:3]):\n",
    "    i0, i1 = ix, ix + 1\n",
    "    ax[ix].set(xlabel=ls.columns[i0], ylabel=ls.columns[i1])\n",
    "    ax[ix].errorbar(\n",
    "        ls.iloc[:, i0],\n",
    "        ls.iloc[:, i1],\n",
    "        xerr=ls.iloc[:, i0 + dc],\n",
    "        yerr=ls.iloc[:, i1 + dc],\n",
    "        ls=\"none\",\n",
    "        ecolor=\"0.5\",\n",
    "        markersize=1,\n",
    "        color=\"k\",\n",
    "    )\n",
    "plt.tight_layout()\n",
    "plt.show()"
   ]
  },
  {
   "cell_type": "markdown",
   "metadata": {},
   "source": [
    "----\n",
    "<div class='alert alert-warning'> <b> <font size=\"+1\">Checkpoint & Time Check</font></b><br>How are things going?</div>\n",
    "\n",
    "----"
   ]
  },
  {
   "cell_type": "markdown",
   "metadata": {},
   "source": [
    "## Fitting Tetrads\n",
    "\n",
    "In addition to fitting orothogonal polynomial functions, the ability to fit tetrad\n",
    "functions has also recently been added. This supplements the $\\lambda$\n",
    "coefficients with $\\tau$ coefficients which describe subtle electronic\n",
    "configuration effects affecting sequential subsets of the REE. Below we plot four\n",
    "profiles - each describing only a single tetrad - to illustrate the shape of\n",
    "these function components. Note that these are functions of $z$, and are here\n",
    "transformed to plot against radii.\n",
    "\n",
    "\n"
   ]
  },
  {
   "cell_type": "code",
   "execution_count": null,
   "metadata": {
    "collapsed": false,
    "jupyter": {
     "outputs_hidden": false
    }
   },
   "outputs": [],
   "source": [
    "from pyrolite.util.lambdas.plot import plot_profiles\n",
    "\n",
    "# let's first create some synthetic pattern parameters\n",
    "# we want lambdas to be zero, and each of the tetrads to be shown in only one pattern\n",
    "lambdas = np.zeros((4, 5))\n",
    "tetrads = np.eye(4)\n",
    "# putting it together to generate four sets of combined parameters\n",
    "fit_parameters = np.hstack([lambdas, tetrads])\n",
    "\n",
    "ax = plot_profiles(\n",
    "    fit_parameters,\n",
    "    tetrads=True,\n",
    "    color=np.arange(4),\n",
    ")\n",
    "plt.show()"
   ]
  },
  {
   "cell_type": "markdown",
   "metadata": {},
   "source": [
    "In order to also fit these function components, you can pass the keyword argument\n",
    "`fit_tetrads=True` to `pyrolite.geochem.pyrochem.lambda_lnREE` and\n",
    "related functions:\n",
    "\n",
    "\n"
   ]
  },
  {
   "cell_type": "code",
   "execution_count": null,
   "metadata": {
    "collapsed": false,
    "jupyter": {
     "outputs_hidden": false
    }
   },
   "outputs": [],
   "source": [
    "lts = df.pyrochem.lambda_lnREE(degree=4, fit_tetrads=True)"
   ]
  },
  {
   "cell_type": "markdown",
   "metadata": {},
   "source": [
    "We can see that the four extra $\\tau$ Parameters have been appended to the\n",
    "right of the lambdas within the output:\n",
    "\n",
    "\n"
   ]
  },
  {
   "cell_type": "code",
   "execution_count": null,
   "metadata": {
    "collapsed": false,
    "jupyter": {
     "outputs_hidden": false
    }
   },
   "outputs": [],
   "source": [
    "lts.head(2)"
   ]
  },
  {
   "cell_type": "markdown",
   "metadata": {},
   "source": [
    "----\n",
    "<div class='alert alert-success'> <b> <font size=\"+1\">We made it to the end!</font></b><br>There's a few more slides, and hopefully a little bit of time for Q&A.</div>\n",
    "\n",
    "----"
   ]
  },
  {
   "cell_type": "markdown",
   "metadata": {},
   "source": [
    "| [**Overview**](./00_overview.ipynb) | [Getting Started](./01_jupyter_python.ipynb) | **Examples:** | [Access](./02_accessing_indexing.ipynb) | [Transform](./03_transform.ipynb) | [Plotting](./04_simple_vis.ipynb) | [Norm-Spiders](./05_norm_spiders.ipynb) | [Minerals](./06_minerals.ipynb) | [lambdas](./07_lambdas.ipynb) |\n",
    "| ----------------------------------- | -------------------------------------------- | ------------- | --------------------------------------- | --------------------------------- | --------------------------------- | --------------------------------------- | ------------------------------- | ----------------------------- |"
   ]
  }
 ],
 "metadata": {
  "kernelspec": {
   "display_name": "pyrolite",
   "language": "python",
   "name": "pyrolite"
  },
  "language_info": {
   "codemirror_mode": {
    "name": "ipython",
    "version": 3
   },
   "file_extension": ".py",
   "mimetype": "text/x-python",
   "name": "python",
   "nbconvert_exporter": "python",
   "pygments_lexer": "ipython3",
   "version": "3.7.9"
  }
 },
 "nbformat": 4,
 "nbformat_minor": 4
}
