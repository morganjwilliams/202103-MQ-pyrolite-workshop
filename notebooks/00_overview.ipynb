{
 "cells": [
  {
   "cell_type": "markdown",
   "metadata": {},
   "source": [
    "| [**Overview**](./00_overview.ipynb) |  **Examples:** |   |\n",
    "|:-----|:-----|:-----|\n",
    "\n",
    "# pyrolite: Overview and Demonstration\n",
    "\n",
    "<img src=\"https://pyrolite.readthedocs.io/en/master/_static/icon.png\" style=\"display:inline; float: right; margin: 0px 15px 15px 0px;\" width=\"20%\"/>\n",
    "\n",
    "These notebooks are for a practical demonstration for the 2021-03-19 Macquarie University Geochemistry Group pyrolite workshop. If you've made your way here via Binder, you're now able to edit and interactively run the examples live here in your browser (thanks to the various organisations supporting the [Binder Project](mybinder.org/)). If not, you can navigate back to the [README](../README.md) and launch Binder from there.\n",
    "\n",
    "`pyrolite` is a set of tools for working with geochemical data written in Python. It aims to help geoscientists quickly get of the ground and make use of their data. It contains a variety of functionality for the processing, transformation and visualisation of geochemical data. This repository contains a few notebooks which demonstrate a few core features of `pyrolite`, and a notebook which explains how to calculate lambdas and tetrads to parameterise your REE data - you can access these using the links below (or the header above to quickly swtich between them).\n",
    "\n",
    "---\n",
    "\n",
    "### New to Jupyter?\n",
    "\n",
    "If you're new to Jupyter, the main thing you'll need to know for this set of notebooks is that you can use Shift+Enter to execute cells of code (or press the 'play' button). This notebook should have launched in Jupyter Lab if you've come via the poster or binder link; this is an interface which provides a file browser to your left, a main workspace (if you're reading this, the space occupied by this notebook) and organises separate open notebooks in tabs (see above this cell). If you'd like a more detailed overview of the Jupyter interface, you can check out [the respective documentation](https://jupyterlab.readthedocs.io/en/stable/user/interface.html).\n",
    "\n",
    "### Examples\n",
    "\n",
    "\n",
    " \n",
    "\n",
    "\n",
    "---\n",
    "\n",
    "For more information on `pyrolite`, visit the [documentation page](https://pyrolite.rtfd.io/en/develop/), where there is [a gallery of examples](https://pyrolite.readthedocs.io/en/develop/examples/index.html). Note that the content for this workshop exclusively works v0.3.0, which is accessible via PyPI (i.e. using `pip`) or on GitHub [from GitHub](https://github.com/morganjwilliams/pyrolite/tree/0.3.0). If you want to check out some of my other open software projects, most are listed on [my GitHub profile](https://github.com/morganjwilliams). Feel free to get in touch via Gitter (for anything `pyrolite` related), via [Twitter](https://twitter.com/metasomite) or send an email to `morgan.williams` _at_ `csiro.au`."
   ]
  }
 ],
 "metadata": {
  "kernelspec": {
   "display_name": "Python 3",
   "language": "python",
   "name": "python3"
  },
  "language_info": {
   "codemirror_mode": {
    "name": "ipython",
    "version": 3
   },
   "file_extension": ".py",
   "mimetype": "text/x-python",
   "name": "python",
   "nbconvert_exporter": "python",
   "pygments_lexer": "ipython3",
   "version": "3.7.4"
  }
 },
 "nbformat": 4,
 "nbformat_minor": 4
}
