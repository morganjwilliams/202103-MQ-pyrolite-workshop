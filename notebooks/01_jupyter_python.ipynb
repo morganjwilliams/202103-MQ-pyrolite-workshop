{
 "cells": [
  {
   "cell_type": "markdown",
   "metadata": {},
   "source": [
    "| [**Overview**](./00_overview.ipynb) | [Getting Started](./01_jupyter_python.ipynb) | **Examples:** | [Access](./02_accessing_indexing.ipynb) | [Transform](./03_transform.ipynb) | [Plotting](./04_simple_vis.ipynb) | [Norm-Spiders](./05_norm_spiders.ipynb) | [Minerals](./06_minerals.ipynb) | [lambdas](./07_lambdas.ipynb) |\n",
    "| ----------------------------------- | -------------------------------------------- | ------------- | --------------------------------------- | --------------------------------- | --------------------------------- | --------------------------------------- | ------------------------------- | ----------------------------- |\n",
    "\n",
    "# Getting Started with Jupyter and Python\n",
    "##### *~15 min*\n",
    "\n",
    "\n",
    "## What is Python?\n",
    "\n",
    "[Python](https://www.python.org/) is a high-level multi-purpose programming langauge.\n",
    "* scripts, notebooks and editors"
   ]
  },
  {
   "cell_type": "markdown",
   "metadata": {},
   "source": [
    "## What is Jupyter?\n",
    "\n",
    "[Project Jupyter](https://jupyter.org/) is an ecosystem of open source tools which provide interfaces for working with a variety of programming langauges. The most well known of these is the Jupyter notebook - which in its simplest form is an electronic notebook consisting of a series of cells (like this one) which can contain a mix of text, code, output, metadata and potentially even interactive elements. Today we're working in Jupyter Lab - which is an environment which combines an interface to notebooks with a file explorer (left) and enables the integration of a variety of other tools.\n",
    "\n",
    "The key thing to note for today is that it's common to find a mix of text cells (typically written in [Markdown](https://www.markdownguide.org/) for easy markup of text). While it's not necessary for today, knowing a bit of markdown syntax can help structure notes and documentation accompanying your code.\n",
    "\n",
    "#### Should you use notebooks?\n",
    "\n",
    "Jupyter notebooks can be a good way to organise prototype workflows, and are often a good mechanism for sharing and explaining your code in a way which invites conversation and interaction (hence using them here!). Notably though, they're not necessarily the solution for everything. While you can construct workflows and models through Jupyter notebooks, they are more difficult to manage relative to standalone scripts and libraries when it comes to version managment, integraiton and automation. For this reason it's suggested that once you have something working well, consider writing it up as a separate script or even a Python library/module!"
   ]
  },
  {
   "cell_type": "markdown",
   "metadata": {},
   "source": [
    "## Some Basic Python\n"
   ]
  },
  {
   "cell_type": "markdown",
   "metadata": {},
   "source": [
    "The typical first line that new Python coders will execute will print the words 'Hello World!':"
   ]
  },
  {
   "cell_type": "code",
   "execution_count": 1,
   "metadata": {},
   "outputs": [
    {
     "name": "stdout",
     "output_type": "stream",
     "text": [
      "Hello World!\n"
     ]
    }
   ],
   "source": [
    "print(\"Hello World!\")"
   ]
  },
  {
   "cell_type": "markdown",
   "metadata": {},
   "source": [
    "The `print` statement is a useful way to get some quick output from your code, you'll likely end using this a lot! Here the `print` statement is actually a **function** (a specific chunk of code which typically takes some input and generates some output), and we're passing it the **argument** `\"Hello World!\"`, which itself is a **string** (text enclosed by either single or double quotation marks; `\"\"` or `''`). \n",
    "\n",
    "Note that in an **interactive environment** (like this notebook) that the execution of code will typically output the result of the last expression - so here we should also be able to just output the string by having it as the last line in a cell (note the inclusion of the quotation marks denoting the string type, however!):"
   ]
  },
  {
   "cell_type": "code",
   "execution_count": 2,
   "metadata": {},
   "outputs": [
    {
     "data": {
      "text/plain": [
       "'Hello World!'"
      ]
     },
     "execution_count": 2,
     "metadata": {},
     "output_type": "execute_result"
    }
   ],
   "source": [
    "\"Hello World!\""
   ]
  },
  {
   "cell_type": "markdown",
   "metadata": {},
   "source": [
    "Beyond using Python as a glorified digital printer, you can also use it as a flexible calculator for just about any kind of numerical task you desire. There are a range of **operators** which when used with numeric types allow you to add, subtract, mutliply, divide and more:"
   ]
  },
  {
   "cell_type": "code",
   "execution_count": 3,
   "metadata": {},
   "outputs": [
    {
     "data": {
      "text/plain": [
       "4"
      ]
     },
     "execution_count": 3,
     "metadata": {},
     "output_type": "execute_result"
    }
   ],
   "source": [
    "2 + 2"
   ]
  },
  {
   "cell_type": "code",
   "execution_count": 4,
   "metadata": {},
   "outputs": [
    {
     "data": {
      "text/plain": [
       "6.0"
      ]
     },
     "execution_count": 4,
     "metadata": {},
     "output_type": "execute_result"
    }
   ],
   "source": [
    "2 * 4 - 4 / 2"
   ]
  },
  {
   "cell_type": "markdown",
   "metadata": {},
   "source": [
    "Note that there is a distinction beteween **integers** (type `int`, e.g. `2`) and **floats** type (`float`, e.g. `2.0`), and that depending on the operations used you may get a different type of result than what you put in. Beyond the simple operators for numeric types, there are a few more complicated ones for integer/floor division (`//`), remainder (`%`), exponent (`**`)."
   ]
  },
  {
   "cell_type": "code",
   "execution_count": 5,
   "metadata": {},
   "outputs": [
    {
     "data": {
      "text/plain": [
       "(2, 2.0)"
      ]
     },
     "execution_count": 5,
     "metadata": {},
     "output_type": "execute_result"
    }
   ],
   "source": [
    "4 // 2, 4 / 2 "
   ]
  },
  {
   "cell_type": "code",
   "execution_count": 6,
   "metadata": {},
   "outputs": [
    {
     "data": {
      "text/plain": [
       "0"
      ]
     },
     "execution_count": 6,
     "metadata": {},
     "output_type": "execute_result"
    }
   ],
   "source": [
    "4 % 2"
   ]
  },
  {
   "cell_type": "code",
   "execution_count": 7,
   "metadata": {},
   "outputs": [
    {
     "data": {
      "text/plain": [
       "16"
      ]
     },
     "execution_count": 7,
     "metadata": {},
     "output_type": "execute_result"
    }
   ],
   "source": [
    "4 ** 2"
   ]
  },
  {
   "cell_type": "markdown",
   "metadata": {},
   "source": [
    "There are also operators for equalities: `==` for equal-to, `>` and `,` for greater-than, less-than, `>=` and `<=` for greater-than-or-equal-to and less-than-or-equal-to; these will return a **boolean** (type `bool`, `True` or `False`):"
   ]
  },
  {
   "cell_type": "code",
   "execution_count": 8,
   "metadata": {},
   "outputs": [
    {
     "data": {
      "text/plain": [
       "False"
      ]
     },
     "execution_count": 8,
     "metadata": {},
     "output_type": "execute_result"
    }
   ],
   "source": [
    "4 < 2"
   ]
  },
  {
   "cell_type": "code",
   "execution_count": 9,
   "metadata": {},
   "outputs": [
    {
     "data": {
      "text/plain": [
       "True"
      ]
     },
     "execution_count": 9,
     "metadata": {},
     "output_type": "execute_result"
    }
   ],
   "source": [
    "8 >= 7"
   ]
  },
  {
   "cell_type": "markdown",
   "metadata": {},
   "source": [
    "Beyond simple numerical calculations and printing, we'll typically want to store the value of some of these expressions as a **variable** - essentially giving it a name. We can then reuse and reassign these variables by referring to them (note these variables persist between cells; they're defined **globally**):"
   ]
  },
  {
   "cell_type": "code",
   "execution_count": 10,
   "metadata": {},
   "outputs": [
    {
     "data": {
      "text/plain": [
       "4"
      ]
     },
     "execution_count": 10,
     "metadata": {},
     "output_type": "execute_result"
    }
   ],
   "source": [
    "a = 2\n",
    "a * 2"
   ]
  },
  {
   "cell_type": "code",
   "execution_count": 11,
   "metadata": {},
   "outputs": [
    {
     "data": {
      "text/plain": [
       "5"
      ]
     },
     "execution_count": 11,
     "metadata": {},
     "output_type": "execute_result"
    }
   ],
   "source": [
    "a = a + 3\n",
    "a"
   ]
  },
  {
   "cell_type": "markdown",
   "metadata": {},
   "source": [
    "There are some operators which allow this type of assignment with a type of shorthand, e.g. for incremental addition:"
   ]
  },
  {
   "cell_type": "code",
   "execution_count": 12,
   "metadata": {},
   "outputs": [
    {
     "data": {
      "text/plain": [
       "6"
      ]
     },
     "execution_count": 12,
     "metadata": {},
     "output_type": "execute_result"
    }
   ],
   "source": [
    "a += 1\n",
    "a"
   ]
  },
  {
   "cell_type": "markdown",
   "metadata": {},
   "source": [
    "As you start to get a bit of structure in your code and have multiple variables floating around, it's a good idea to start commenting and documenting your code. To do this, the use of comments and multi-line strings is typical:"
   ]
  },
  {
   "cell_type": "code",
   "execution_count": 13,
   "metadata": {},
   "outputs": [],
   "source": [
    "\"\"\"\n",
    "This is a multi-line string to describe the general behaviour of the code to follow below.\n",
    "\"\"\"\n",
    "# this is a comment\n",
    "b = 14\n",
    "# halve b\n",
    "b /= 2"
   ]
  },
  {
   "cell_type": "markdown",
   "metadata": {},
   "source": [
    "Besides types which correspond to an individual value, there are also types of collections of values, including lists, tuples (\"lists which you can't change\"), dictionaries ( key-value pairs), and sets (a collection of unique things)."
   ]
  },
  {
   "cell_type": "code",
   "execution_count": 14,
   "metadata": {},
   "outputs": [],
   "source": [
    "list_0 = ['a', 'b', 1, 2]\n",
    "tuple_0 = ('a', 'b', 1, 2)\n",
    "dict_0 = {'a': 'b', 1: 2}\n",
    "set_0 = {'a', 'b', 1, 2}"
   ]
  },
  {
   "cell_type": "markdown",
   "metadata": {},
   "source": [
    "We can refer to/**index** the values within these collections, and in some cases assign new values (note that Python uses 0-based indexing; you need to use 0 to ask for the first element, and so on):"
   ]
  },
  {
   "cell_type": "code",
   "execution_count": 15,
   "metadata": {},
   "outputs": [
    {
     "data": {
      "text/plain": [
       "('a', 'b')"
      ]
     },
     "execution_count": 15,
     "metadata": {},
     "output_type": "execute_result"
    }
   ],
   "source": [
    "list_0[0], tuple_0[1]"
   ]
  },
  {
   "cell_type": "markdown",
   "metadata": {},
   "source": [
    "Notably, you can't use these indexes to get the elements/values of a dictionary or set; a dictionary has key-value pairs - and you can access the values by using the keys:"
   ]
  },
  {
   "cell_type": "code",
   "execution_count": 16,
   "metadata": {},
   "outputs": [
    {
     "data": {
      "text/plain": [
       "('b', 2)"
      ]
     },
     "execution_count": 16,
     "metadata": {},
     "output_type": "execute_result"
    }
   ],
   "source": [
    "dict_0['a'], dict_0[1]"
   ]
  },
  {
   "cell_type": "markdown",
   "metadata": {},
   "source": [
    "To get the last elements of an indexable collection, you can also use negative indexing:"
   ]
  },
  {
   "cell_type": "code",
   "execution_count": 17,
   "metadata": {},
   "outputs": [
    {
     "data": {
      "text/plain": [
       "2"
      ]
     },
     "execution_count": 17,
     "metadata": {},
     "output_type": "execute_result"
    }
   ],
   "source": [
    "list_0[-1]"
   ]
  },
  {
   "cell_type": "markdown",
   "metadata": {},
   "source": [
    "Another handy function for dealing with collections is `len`, which will return the length of a collection (at it's root level):"
   ]
  },
  {
   "cell_type": "code",
   "execution_count": 70,
   "metadata": {},
   "outputs": [
    {
     "data": {
      "text/plain": [
       "4"
      ]
     },
     "execution_count": 70,
     "metadata": {},
     "output_type": "execute_result"
    }
   ],
   "source": [
    "lst = [['b', 'd', 'a'], 'c', 1, 5.6]\n",
    "len(lst)"
   ]
  },
  {
   "cell_type": "markdown",
   "metadata": {},
   "source": [
    "Note that the first element only counts as one! But we can also check it's length if you wanted to dig into it:"
   ]
  },
  {
   "cell_type": "code",
   "execution_count": 71,
   "metadata": {},
   "outputs": [
    {
     "data": {
      "text/plain": [
       "3"
      ]
     },
     "execution_count": 71,
     "metadata": {},
     "output_type": "execute_result"
    }
   ],
   "source": [
    "len(lst[0])"
   ]
  },
  {
   "cell_type": "markdown",
   "metadata": {},
   "source": [
    "Once you start to write a bit of code, you'll notice that a lot of times you'll repeat your self/copy paste code from one script/notebook to another. At this point you should consisder starting to organise code which is run repeatedly into a relevant structure. Functions are often the primary structure you'll use to do this - simply wrapping up and naming a bit of code, defining its input and output. \n",
    "\n",
    "Functions can take a variety of inputs. These inputs which are divided into **arguments** (passed simply as values, typically noted `args`) and **keyword arguments** (key-value pairs, often noted `kwargs`). The following function takes a single unanmed input, modifies it and returns a different value:"
   ]
  },
  {
   "cell_type": "code",
   "execution_count": 18,
   "metadata": {},
   "outputs": [
    {
     "data": {
      "text/plain": [
       "3"
      ]
     },
     "execution_count": 18,
     "metadata": {},
     "output_type": "execute_result"
    }
   ],
   "source": [
    "def add_one(x):\n",
    "    return x + 1\n",
    "\n",
    "add_one(2)"
   ]
  },
  {
   "cell_type": "markdown",
   "metadata": {},
   "source": [
    "Functions need not return a value (e.g. sometimes you want functions to save something to disk, print output or a variety of other use cases), but often do - and can return multiple. It's a good idea to give your functions and their arguments readable names, and document these in docstrings (the multi-line string below):"
   ]
  },
  {
   "cell_type": "code",
   "execution_count": 65,
   "metadata": {},
   "outputs": [],
   "source": [
    "def to_wt_percent(x, # this is an argument\n",
    "                  from_units='ppm' # this is a keyword argument\n",
    "                 ):\n",
    "    \"\"\" \n",
    "    Convert a value to wt%.\n",
    "    \n",
    "    Parameters\n",
    "    ----------\n",
    "    x : float | array\n",
    "        Value to convert units for.\n",
    "    from_units : str\n",
    "        Current units the value is in.\n",
    "        \n",
    "    Returns\n",
    "    -------\n",
    "    float\n",
    "    \"\"\"\n",
    "    if from_units == 'wt%':\n",
    "        pass\n",
    "    elif from_units == 'ppm':\n",
    "        x /= 10000\n",
    "    else:\n",
    "        raise NotImplementedError\n",
    "    return x"
   ]
  },
  {
   "cell_type": "code",
   "execution_count": 72,
   "metadata": {},
   "outputs": [
    {
     "data": {
      "text/plain": [
       "0.001"
      ]
     },
     "execution_count": 72,
     "metadata": {},
     "output_type": "execute_result"
    }
   ],
   "source": [
    "to_wt_percent(10, from_units='ppm')"
   ]
  },
  {
   "cell_type": "markdown",
   "metadata": {},
   "source": [
    "If you write functions with docstrings, you're then also able to access them as needed through built-in help functions:"
   ]
  },
  {
   "cell_type": "code",
   "execution_count": 66,
   "metadata": {},
   "outputs": [
    {
     "name": "stdout",
     "output_type": "stream",
     "text": [
      "Help on function to_wt_percent in module __main__:\n",
      "\n",
      "to_wt_percent(x, from_units='ppm')\n",
      "    Convert a value to wt%.\n",
      "    \n",
      "    Parameters\n",
      "    ----------\n",
      "    x : float\n",
      "        Value to convert units for.\n",
      "    from_units : str\n",
      "        Current units the value is in.\n",
      "        \n",
      "    Returns\n",
      "    -------\n",
      "    float\n",
      "\n"
     ]
    }
   ],
   "source": [
    "help(to_wt_percent)"
   ]
  },
  {
   "cell_type": "markdown",
   "metadata": {},
   "source": [
    "The other useful aspect of bundling up your code in this way is that you can save it to a separate file (e.g. we might put the file above in a file called `units.py`), and then import it so you can use it across multiple scripts - or even put together a collection of functions into a library (this is how pyrolite began...)."
   ]
  },
  {
   "cell_type": "markdown",
   "metadata": {},
   "source": [
    "One of the great advantages of working with Python is the ecosystem of tools which you can leverage in your own work - from `numpy`, `scipy`, `matplotlib` and `pandas` through to `pyrolite`, which is built upon the others. To be able to use these libraries/packages, you'll need to **import** them. There are a few conventions for importing some common packages to reduce the amount of code you need to type which are handy to recognise. For example, instead of importing `pandas` like this:"
   ]
  },
  {
   "cell_type": "code",
   "execution_count": null,
   "metadata": {},
   "outputs": [],
   "source": [
    "import pandas"
   ]
  },
  {
   "cell_type": "markdown",
   "metadata": {},
   "source": [
    "We can import `pandas` *as* `pd` like this, and thereafter reference it using `pd`:"
   ]
  },
  {
   "cell_type": "code",
   "execution_count": null,
   "metadata": {},
   "outputs": [],
   "source": [
    "import pandas as pd"
   ]
  },
  {
   "cell_type": "markdown",
   "metadata": {},
   "source": [
    "Similarly, there are conventions for other libraries:"
   ]
  },
  {
   "cell_type": "code",
   "execution_count": null,
   "metadata": {},
   "outputs": [],
   "source": [
    "import numpy as np\n",
    "import matplotlib.pyplot as plt"
   ]
  },
  {
   "cell_type": "markdown",
   "metadata": {},
   "source": [
    "If you're just after one part of a library, you can import the single class/function/submodule *from* that library:"
   ]
  },
  {
   "cell_type": "code",
   "execution_count": null,
   "metadata": {},
   "outputs": [],
   "source": [
    "from pyrolite.util.plot import save_figure"
   ]
  },
  {
   "cell_type": "markdown",
   "metadata": {},
   "source": [
    "----\n",
    "<div class='alert alert-warning'> <b> <font size=\"+1\">Checkpoint & Time Check</font></b><br>How are things going?</div>\n",
    "\n",
    "----"
   ]
  },
  {
   "cell_type": "markdown",
   "metadata": {},
   "source": [
    "## `numpy`\n",
    "\n",
    "`numpy` is a Python package for working with numeric data, with the `numpy.array` being the core type of data you'd likely run into:"
   ]
  },
  {
   "cell_type": "code",
   "execution_count": 8,
   "metadata": {},
   "outputs": [
    {
     "data": {
      "text/plain": [
       "array([[0.6, 1.3, 2. , 4.1],\n",
       "       [0.2, 1.1, 1.9, 3.2]])"
      ]
     },
     "execution_count": 8,
     "metadata": {},
     "output_type": "execute_result"
    }
   ],
   "source": [
    "import numpy as np\n",
    "arr = np.array([[0.6, 1.3, 2.0, 4.1], [0.2, 1.1, 1.9, 3.2]])\n",
    "arr"
   ]
  },
  {
   "cell_type": "markdown",
   "metadata": {},
   "source": [
    "In some ways arrays are a lot like lists, but can be quite a bit more performant when you're getting to larger amounts of data - simply because arrays are typically restricted to containing a single type of data, and the shapes which arrays can take are also restricted (e.g. such that for a multidimensional array you'll need to combine sequences of the same length)."
   ]
  },
  {
   "cell_type": "code",
   "execution_count": 9,
   "metadata": {},
   "outputs": [
    {
     "data": {
      "text/plain": [
       "dtype('float64')"
      ]
     },
     "execution_count": 9,
     "metadata": {},
     "output_type": "execute_result"
    }
   ],
   "source": [
    "arr.dtype"
   ]
  },
  {
   "cell_type": "code",
   "execution_count": 10,
   "metadata": {},
   "outputs": [
    {
     "data": {
      "text/plain": [
       "(2, 4)"
      ]
     },
     "execution_count": 10,
     "metadata": {},
     "output_type": "execute_result"
    }
   ],
   "source": [
    "arr.shape"
   ]
  },
  {
   "cell_type": "markdown",
   "metadata": {},
   "source": [
    "---\n",
    "\n",
    "Below we'll have a quick look at the packages that `pyrolite` is built upon - particularly because `pyrolite` replicates their API (application programming interface - how you interact with the code) and the outputs of pyrolite are typically objects created using these libraries.\n",
    "\n",
    "## Getting Started with `matplotlib`\n",
    "\n",
    "`matplotlib` is a fairly extensive library of plotting tools originally written to avoid paying for MATLAB licenses! It's highly customisable (which is why it's used in pyrolite), but can also allow you to quickly produce simple plots from your data without too much fuss. With a bit more work you can be directly making publication quality (or better..) figures."
   ]
  },
  {
   "cell_type": "code",
   "execution_count": null,
   "metadata": {},
   "outputs": [],
   "source": [
    "import matplotlib.pyplot as plt "
   ]
  },
  {
   "cell_type": "markdown",
   "metadata": {},
   "source": [
    "---\n",
    "## Getting Started with `pandas`\n",
    "\n",
    "`pandas` is a Python package for working with tabluar data, and in many ways could replace what most folks do in Excel. It provides an interface to your data in such a way that you'll be looking at more than just the numbers (in contrast to numpy), and allows you to index, subset, filter and otherwise manipulate your dataset based on indexes - specifically the column names and index values. Like `numpy`, it has some restrictions on the shape of your data, and values within each column all have the same data type. \n",
    "\n",
    "You can build dataframes from a variety of sources - including numpy arrays, but also a number of different file types (see the [docs](https://pandas.pydata.org/pandas-docs/stable/io.html) for a list of all the file types `pandas` can read and write)."
   ]
  },
  {
   "cell_type": "code",
   "execution_count": 15,
   "metadata": {},
   "outputs": [
    {
     "data": {
      "text/html": [
       "<div>\n",
       "<style scoped>\n",
       "    .dataframe tbody tr th:only-of-type {\n",
       "        vertical-align: middle;\n",
       "    }\n",
       "\n",
       "    .dataframe tbody tr th {\n",
       "        vertical-align: top;\n",
       "    }\n",
       "\n",
       "    .dataframe thead th {\n",
       "        text-align: right;\n",
       "    }\n",
       "</style>\n",
       "<table border=\"1\" class=\"dataframe\">\n",
       "  <thead>\n",
       "    <tr style=\"text-align: right;\">\n",
       "      <th></th>\n",
       "      <th>A</th>\n",
       "      <th>B</th>\n",
       "      <th>C</th>\n",
       "      <th>D</th>\n",
       "    </tr>\n",
       "  </thead>\n",
       "  <tbody>\n",
       "    <tr>\n",
       "      <th>0</th>\n",
       "      <td>0.6</td>\n",
       "      <td>1.3</td>\n",
       "      <td>2.0</td>\n",
       "      <td>4.1</td>\n",
       "    </tr>\n",
       "    <tr>\n",
       "      <th>1</th>\n",
       "      <td>0.2</td>\n",
       "      <td>1.1</td>\n",
       "      <td>1.9</td>\n",
       "      <td>3.2</td>\n",
       "    </tr>\n",
       "  </tbody>\n",
       "</table>\n",
       "</div>"
      ],
      "text/plain": [
       "     A    B    C    D\n",
       "0  0.6  1.3  2.0  4.1\n",
       "1  0.2  1.1  1.9  3.2"
      ]
     },
     "execution_count": 15,
     "metadata": {},
     "output_type": "execute_result"
    }
   ],
   "source": [
    "import pandas as pd\n",
    "\n",
    "df = pd.DataFrame(arr, columns=['A', 'B', 'C', 'D'])\n",
    "df"
   ]
  },
  {
   "cell_type": "markdown",
   "metadata": {},
   "source": [
    "In a lot of cases, rather than constructing dataframes yourself, you'll likely want to read a file:"
   ]
  },
  {
   "cell_type": "code",
   "execution_count": 18,
   "metadata": {},
   "outputs": [
    {
     "data": {
      "text/html": [
       "<div>\n",
       "<style scoped>\n",
       "    .dataframe tbody tr th:only-of-type {\n",
       "        vertical-align: middle;\n",
       "    }\n",
       "\n",
       "    .dataframe tbody tr th {\n",
       "        vertical-align: top;\n",
       "    }\n",
       "\n",
       "    .dataframe thead th {\n",
       "        text-align: right;\n",
       "    }\n",
       "</style>\n",
       "<table border=\"1\" class=\"dataframe\">\n",
       "  <thead>\n",
       "    <tr style=\"text-align: right;\">\n",
       "      <th></th>\n",
       "      <th>Mineral</th>\n",
       "      <th>Reference</th>\n",
       "      <th>Analysis Type</th>\n",
       "      <th>Location</th>\n",
       "      <th>Site</th>\n",
       "      <th>Section</th>\n",
       "      <th>Img. Ref. No.</th>\n",
       "      <th>Enclosing Phase</th>\n",
       "      <th>Na2O_pct</th>\n",
       "      <th>MgO_pct</th>\n",
       "      <th>...</th>\n",
       "      <th>Fe2_apfu</th>\n",
       "      <th>Fe3_apfu</th>\n",
       "      <th>Mn_apfu</th>\n",
       "      <th>Mg_apfu</th>\n",
       "      <th>Co_apfu</th>\n",
       "      <th>Zn_apfu</th>\n",
       "      <th>Ni_apfu</th>\n",
       "      <th>Tot_cat</th>\n",
       "      <th>Mgno</th>\n",
       "      <th>Fe3no</th>\n",
       "    </tr>\n",
       "  </thead>\n",
       "  <tbody>\n",
       "    <tr>\n",
       "      <th>0</th>\n",
       "      <td>spinel</td>\n",
       "      <td>Barnes and Kunilov, 2000</td>\n",
       "      <td>WDS</td>\n",
       "      <td>Norilsk</td>\n",
       "      <td>Chibacheka River Intrusion</td>\n",
       "      <td>UK35-118.9</td>\n",
       "      <td>1A</td>\n",
       "      <td>olivine</td>\n",
       "      <td>NaN</td>\n",
       "      <td>4.47</td>\n",
       "      <td>...</td>\n",
       "      <td>0.766897</td>\n",
       "      <td>0.235714</td>\n",
       "      <td>0.012958</td>\n",
       "      <td>0.268278</td>\n",
       "      <td>0.001492</td>\n",
       "      <td>0.007134</td>\n",
       "      <td>0.004035</td>\n",
       "      <td>2.991597</td>\n",
       "      <td>0.259162</td>\n",
       "      <td>0.126457</td>\n",
       "    </tr>\n",
       "    <tr>\n",
       "      <th>1</th>\n",
       "      <td>spinel</td>\n",
       "      <td>Barnes and Kunilov, 2000</td>\n",
       "      <td>WDS</td>\n",
       "      <td>Norilsk</td>\n",
       "      <td>Chibacheka River Intrusion</td>\n",
       "      <td>UK35-118.9</td>\n",
       "      <td>6A</td>\n",
       "      <td>olivine</td>\n",
       "      <td>NaN</td>\n",
       "      <td>5.00</td>\n",
       "      <td>...</td>\n",
       "      <td>0.713053</td>\n",
       "      <td>0.202028</td>\n",
       "      <td>0.011033</td>\n",
       "      <td>0.294224</td>\n",
       "      <td>0.000835</td>\n",
       "      <td>0.006412</td>\n",
       "      <td>0.005911</td>\n",
       "      <td>2.999275</td>\n",
       "      <td>0.292099</td>\n",
       "      <td>0.104364</td>\n",
       "    </tr>\n",
       "  </tbody>\n",
       "</table>\n",
       "<p>2 rows × 38 columns</p>\n",
       "</div>"
      ],
      "text/plain": [
       "  Mineral                 Reference Analysis Type Location  \\\n",
       "0  spinel  Barnes and Kunilov, 2000           WDS  Norilsk   \n",
       "1  spinel  Barnes and Kunilov, 2000           WDS  Norilsk   \n",
       "\n",
       "                         Site     Section Img. Ref. No. Enclosing Phase  \\\n",
       "0  Chibacheka River Intrusion  UK35-118.9            1A         olivine   \n",
       "1  Chibacheka River Intrusion  UK35-118.9            6A         olivine   \n",
       "\n",
       "   Na2O_pct  MgO_pct  ...  Fe2_apfu  Fe3_apfu   Mn_apfu   Mg_apfu   Co_apfu  \\\n",
       "0       NaN     4.47  ...  0.766897  0.235714  0.012958  0.268278  0.001492   \n",
       "1       NaN     5.00  ...  0.713053  0.202028  0.011033  0.294224  0.000835   \n",
       "\n",
       "    Zn_apfu   Ni_apfu   Tot_cat      Mgno     Fe3no  \n",
       "0  0.007134  0.004035  2.991597  0.259162  0.126457  \n",
       "1  0.006412  0.005911  2.999275  0.292099  0.104364  \n",
       "\n",
       "[2 rows x 38 columns]"
      ]
     },
     "execution_count": 18,
     "metadata": {},
     "output_type": "execute_result"
    }
   ],
   "source": [
    "df = pd.read_csv(\"../data/Norilsk_spinel_major_chemistry.csv\")\n",
    "df.head(2)"
   ]
  },
  {
   "cell_type": "code",
   "execution_count": 40,
   "metadata": {},
   "outputs": [
    {
     "data": {
      "text/plain": [
       "Index(['Mineral', 'Reference', 'Analysis Type', 'Location', 'Site', 'Section',\n",
       "       'Img. Ref. No.', 'Enclosing Phase', 'Na2O_pct', 'MgO_pct', 'Al2O3_pct',\n",
       "       'SiO2_pct', 'K2O_pct', 'CaO_pct', 'TiO2_pct', 'V2O5_pct', 'Cr2O3_pct',\n",
       "       'MnO_pct', 'FeO_pct', 'NiO_pct', 'CoO_pct', 'ZnO_pct', 'Total_pct',\n",
       "       'Sumox', 'Cr_apfu', 'Ti_apfu', 'V_apfu', 'Al_apfu', 'Fe2_apfu',\n",
       "       'Fe3_apfu', 'Mn_apfu', 'Mg_apfu', 'Co_apfu', 'Zn_apfu', 'Ni_apfu',\n",
       "       'Tot_cat', 'Mgno', 'Fe3no'],\n",
       "      dtype='object')"
      ]
     },
     "execution_count": 40,
     "metadata": {},
     "output_type": "execute_result"
    }
   ],
   "source": [
    "df.columns"
   ]
  },
  {
   "cell_type": "code",
   "execution_count": 41,
   "metadata": {},
   "outputs": [
    {
     "data": {
      "text/plain": [
       "RangeIndex(start=0, stop=550, step=1)"
      ]
     },
     "execution_count": 41,
     "metadata": {},
     "output_type": "execute_result"
    }
   ],
   "source": [
    "df.index"
   ]
  },
  {
   "cell_type": "code",
   "execution_count": 75,
   "metadata": {},
   "outputs": [
    {
     "data": {
      "text/plain": [
       "Mineral             object\n",
       "Reference           object\n",
       "Analysis Type       object\n",
       "Location            object\n",
       "Site                object\n",
       "Section             object\n",
       "Img. Ref. No.       object\n",
       "Enclosing Phase     object\n",
       "Na2O_pct           float64\n",
       "MgO_pct            float64\n",
       "Al2O3_pct          float64\n",
       "SiO2_pct           float64\n",
       "K2O_pct            float64\n",
       "CaO_pct            float64\n",
       "TiO2_pct           float64\n",
       "V2O5_pct           float64\n",
       "Cr2O3_pct          float64\n",
       "MnO_pct            float64\n",
       "FeO_pct            float64\n",
       "NiO_pct            float64\n",
       "CoO_pct            float64\n",
       "ZnO_pct            float64\n",
       "Total_pct          float64\n",
       "Sumox              float64\n",
       "Cr_apfu            float64\n",
       "Ti_apfu            float64\n",
       "V_apfu             float64\n",
       "Al_apfu            float64\n",
       "Fe2_apfu           float64\n",
       "Fe3_apfu           float64\n",
       "Mn_apfu            float64\n",
       "Mg_apfu            float64\n",
       "Co_apfu            float64\n",
       "Zn_apfu            float64\n",
       "Ni_apfu            float64\n",
       "Tot_cat            float64\n",
       "Mgno               float64\n",
       "Fe3no              float64\n",
       "dtype: object"
      ]
     },
     "execution_count": 75,
     "metadata": {},
     "output_type": "execute_result"
    }
   ],
   "source": [
    "df.dtypes # note that here 'object' typically refers to strings - always worth checking if your numbers get converted to strings if you have 'NA', '<LOD' etc!"
   ]
  },
  {
   "cell_type": "markdown",
   "metadata": {},
   "source": [
    "---\n",
    "\n",
    "#### Indexing\n",
    "\n",
    "`pandas` allows you to index data in a number of ways (with a few restrictions). You can access individual columns using `df[\"<column_name>\"]` or `df.column_name` (if there are no spaces in the column name!), which will return a `pandas.Series` (a single column, with the index of the dataframe):"
   ]
  },
  {
   "cell_type": "code",
   "execution_count": 23,
   "metadata": {},
   "outputs": [
    {
     "data": {
      "text/plain": [
       "0    0.766897\n",
       "1    0.713053\n",
       "2    0.786967\n",
       "3    0.710923\n",
       "4    0.737476\n",
       "Name: Fe2_apfu, dtype: float64"
      ]
     },
     "execution_count": 23,
     "metadata": {},
     "output_type": "execute_result"
    }
   ],
   "source": [
    "df[\"Fe2_apfu\"].head()"
   ]
  },
  {
   "cell_type": "code",
   "execution_count": 24,
   "metadata": {},
   "outputs": [
    {
     "data": {
      "text/plain": [
       "0    0.766897\n",
       "1    0.713053\n",
       "2    0.786967\n",
       "3    0.710923\n",
       "4    0.737476\n",
       "Name: Fe2_apfu, dtype: float64"
      ]
     },
     "execution_count": 24,
     "metadata": {},
     "output_type": "execute_result"
    }
   ],
   "source": [
    "df.Fe2_apfu.head()"
   ]
  },
  {
   "cell_type": "markdown",
   "metadata": {},
   "source": [
    "You can access multiple columns at once by indexing with a list rather than a single value, which will return a *view* of the dataframe (you can also do this to return a once-column dataframe!):"
   ]
  },
  {
   "cell_type": "code",
   "execution_count": 26,
   "metadata": {},
   "outputs": [
    {
     "data": {
      "text/html": [
       "<div>\n",
       "<style scoped>\n",
       "    .dataframe tbody tr th:only-of-type {\n",
       "        vertical-align: middle;\n",
       "    }\n",
       "\n",
       "    .dataframe tbody tr th {\n",
       "        vertical-align: top;\n",
       "    }\n",
       "\n",
       "    .dataframe thead th {\n",
       "        text-align: right;\n",
       "    }\n",
       "</style>\n",
       "<table border=\"1\" class=\"dataframe\">\n",
       "  <thead>\n",
       "    <tr style=\"text-align: right;\">\n",
       "      <th></th>\n",
       "      <th>Fe2_apfu</th>\n",
       "      <th>Fe3_apfu</th>\n",
       "    </tr>\n",
       "  </thead>\n",
       "  <tbody>\n",
       "    <tr>\n",
       "      <th>0</th>\n",
       "      <td>0.766897</td>\n",
       "      <td>0.235714</td>\n",
       "    </tr>\n",
       "    <tr>\n",
       "      <th>1</th>\n",
       "      <td>0.713053</td>\n",
       "      <td>0.202028</td>\n",
       "    </tr>\n",
       "    <tr>\n",
       "      <th>2</th>\n",
       "      <td>0.786967</td>\n",
       "      <td>0.297640</td>\n",
       "    </tr>\n",
       "    <tr>\n",
       "      <th>3</th>\n",
       "      <td>0.710923</td>\n",
       "      <td>0.226905</td>\n",
       "    </tr>\n",
       "    <tr>\n",
       "      <th>4</th>\n",
       "      <td>0.737476</td>\n",
       "      <td>0.233073</td>\n",
       "    </tr>\n",
       "  </tbody>\n",
       "</table>\n",
       "</div>"
      ],
      "text/plain": [
       "   Fe2_apfu  Fe3_apfu\n",
       "0  0.766897  0.235714\n",
       "1  0.713053  0.202028\n",
       "2  0.786967  0.297640\n",
       "3  0.710923  0.226905\n",
       "4  0.737476  0.233073"
      ]
     },
     "execution_count": 26,
     "metadata": {},
     "output_type": "execute_result"
    }
   ],
   "source": [
    "df[[\"Fe2_apfu\", \"Fe3_apfu\"]].head()"
   ]
  },
  {
   "cell_type": "markdown",
   "metadata": {},
   "source": [
    "If you also want to filter the dataframe based on the index (e.g. where a certain criterion is met), you can use the `df.loc` accessor (and in some cases `df.iloc`, where all you care about is the relative positon of columns/rows, and not their names/values). To do this, you can use `df.loc[<index_filter>, <column_filter>]`:"
   ]
  },
  {
   "cell_type": "code",
   "execution_count": 29,
   "metadata": {},
   "outputs": [
    {
     "data": {
      "text/html": [
       "<div>\n",
       "<style scoped>\n",
       "    .dataframe tbody tr th:only-of-type {\n",
       "        vertical-align: middle;\n",
       "    }\n",
       "\n",
       "    .dataframe tbody tr th {\n",
       "        vertical-align: top;\n",
       "    }\n",
       "\n",
       "    .dataframe thead th {\n",
       "        text-align: right;\n",
       "    }\n",
       "</style>\n",
       "<table border=\"1\" class=\"dataframe\">\n",
       "  <thead>\n",
       "    <tr style=\"text-align: right;\">\n",
       "      <th></th>\n",
       "      <th>Cr_apfu</th>\n",
       "      <th>Ti_apfu</th>\n",
       "      <th>V_apfu</th>\n",
       "      <th>Al_apfu</th>\n",
       "      <th>Fe2_apfu</th>\n",
       "      <th>Fe3_apfu</th>\n",
       "      <th>Mn_apfu</th>\n",
       "      <th>Mg_apfu</th>\n",
       "      <th>Co_apfu</th>\n",
       "      <th>Zn_apfu</th>\n",
       "      <th>Ni_apfu</th>\n",
       "    </tr>\n",
       "  </thead>\n",
       "  <tbody>\n",
       "    <tr>\n",
       "      <th>0</th>\n",
       "      <td>1.140498</td>\n",
       "      <td>0.047552</td>\n",
       "      <td>0.019261</td>\n",
       "      <td>0.487779</td>\n",
       "      <td>0.766897</td>\n",
       "      <td>0.235714</td>\n",
       "      <td>0.012958</td>\n",
       "      <td>0.268278</td>\n",
       "      <td>0.001492</td>\n",
       "      <td>0.007134</td>\n",
       "      <td>0.004035</td>\n",
       "    </tr>\n",
       "    <tr>\n",
       "      <th>1</th>\n",
       "      <td>1.178763</td>\n",
       "      <td>0.030290</td>\n",
       "      <td>0.001714</td>\n",
       "      <td>0.555012</td>\n",
       "      <td>0.713053</td>\n",
       "      <td>0.202028</td>\n",
       "      <td>0.011033</td>\n",
       "      <td>0.294224</td>\n",
       "      <td>0.000835</td>\n",
       "      <td>0.006412</td>\n",
       "      <td>0.005911</td>\n",
       "    </tr>\n",
       "    <tr>\n",
       "      <th>2</th>\n",
       "      <td>0.964930</td>\n",
       "      <td>0.153395</td>\n",
       "      <td>0.020092</td>\n",
       "      <td>0.387966</td>\n",
       "      <td>0.786967</td>\n",
       "      <td>0.297640</td>\n",
       "      <td>0.012819</td>\n",
       "      <td>0.356607</td>\n",
       "      <td>0.001173</td>\n",
       "      <td>0.003414</td>\n",
       "      <td>0.006228</td>\n",
       "    </tr>\n",
       "    <tr>\n",
       "      <th>3</th>\n",
       "      <td>1.158816</td>\n",
       "      <td>0.025719</td>\n",
       "      <td>0.002950</td>\n",
       "      <td>0.556596</td>\n",
       "      <td>0.710923</td>\n",
       "      <td>0.226905</td>\n",
       "      <td>0.010774</td>\n",
       "      <td>0.293343</td>\n",
       "      <td>0.000885</td>\n",
       "      <td>0.005576</td>\n",
       "      <td>0.006245</td>\n",
       "    </tr>\n",
       "    <tr>\n",
       "      <th>4</th>\n",
       "      <td>1.172687</td>\n",
       "      <td>0.044066</td>\n",
       "      <td>0.003873</td>\n",
       "      <td>0.497902</td>\n",
       "      <td>0.737476</td>\n",
       "      <td>0.233073</td>\n",
       "      <td>0.011893</td>\n",
       "      <td>0.284688</td>\n",
       "      <td>0.000893</td>\n",
       "      <td>0.005628</td>\n",
       "      <td>0.006150</td>\n",
       "    </tr>\n",
       "    <tr>\n",
       "      <th>...</th>\n",
       "      <td>...</td>\n",
       "      <td>...</td>\n",
       "      <td>...</td>\n",
       "      <td>...</td>\n",
       "      <td>...</td>\n",
       "      <td>...</td>\n",
       "      <td>...</td>\n",
       "      <td>...</td>\n",
       "      <td>...</td>\n",
       "      <td>...</td>\n",
       "      <td>...</td>\n",
       "    </tr>\n",
       "    <tr>\n",
       "      <th>323</th>\n",
       "      <td>0.771147</td>\n",
       "      <td>0.148350</td>\n",
       "      <td>0.013238</td>\n",
       "      <td>0.124433</td>\n",
       "      <td>0.948200</td>\n",
       "      <td>0.779610</td>\n",
       "      <td>0.021765</td>\n",
       "      <td>0.173215</td>\n",
       "      <td>0.000861</td>\n",
       "      <td>0.002475</td>\n",
       "      <td>0.010936</td>\n",
       "    </tr>\n",
       "    <tr>\n",
       "      <th>324</th>\n",
       "      <td>0.784709</td>\n",
       "      <td>0.201206</td>\n",
       "      <td>0.024666</td>\n",
       "      <td>0.117825</td>\n",
       "      <td>0.971090</td>\n",
       "      <td>0.642660</td>\n",
       "      <td>0.019205</td>\n",
       "      <td>0.213563</td>\n",
       "      <td>0.001006</td>\n",
       "      <td>0.002663</td>\n",
       "      <td>0.010636</td>\n",
       "    </tr>\n",
       "    <tr>\n",
       "      <th>325</th>\n",
       "      <td>1.029885</td>\n",
       "      <td>0.152294</td>\n",
       "      <td>0.025068</td>\n",
       "      <td>0.129777</td>\n",
       "      <td>0.954815</td>\n",
       "      <td>0.482501</td>\n",
       "      <td>0.016291</td>\n",
       "      <td>0.183505</td>\n",
       "      <td>0.001395</td>\n",
       "      <td>0.006035</td>\n",
       "      <td>0.007488</td>\n",
       "    </tr>\n",
       "    <tr>\n",
       "      <th>326</th>\n",
       "      <td>0.748542</td>\n",
       "      <td>0.203559</td>\n",
       "      <td>0.032958</td>\n",
       "      <td>0.118732</td>\n",
       "      <td>0.977122</td>\n",
       "      <td>0.655592</td>\n",
       "      <td>0.016083</td>\n",
       "      <td>0.219374</td>\n",
       "      <td>0.001524</td>\n",
       "      <td>0.002337</td>\n",
       "      <td>0.009779</td>\n",
       "    </tr>\n",
       "    <tr>\n",
       "      <th>327</th>\n",
       "      <td>0.812443</td>\n",
       "      <td>0.196179</td>\n",
       "      <td>0.031584</td>\n",
       "      <td>0.118066</td>\n",
       "      <td>0.967357</td>\n",
       "      <td>0.610038</td>\n",
       "      <td>0.016182</td>\n",
       "      <td>0.218619</td>\n",
       "      <td>0.001374</td>\n",
       "      <td>0.004575</td>\n",
       "      <td>0.009785</td>\n",
       "    </tr>\n",
       "  </tbody>\n",
       "</table>\n",
       "<p>263 rows × 11 columns</p>\n",
       "</div>"
      ],
      "text/plain": [
       "      Cr_apfu   Ti_apfu    V_apfu   Al_apfu  Fe2_apfu  Fe3_apfu   Mn_apfu  \\\n",
       "0    1.140498  0.047552  0.019261  0.487779  0.766897  0.235714  0.012958   \n",
       "1    1.178763  0.030290  0.001714  0.555012  0.713053  0.202028  0.011033   \n",
       "2    0.964930  0.153395  0.020092  0.387966  0.786967  0.297640  0.012819   \n",
       "3    1.158816  0.025719  0.002950  0.556596  0.710923  0.226905  0.010774   \n",
       "4    1.172687  0.044066  0.003873  0.497902  0.737476  0.233073  0.011893   \n",
       "..        ...       ...       ...       ...       ...       ...       ...   \n",
       "323  0.771147  0.148350  0.013238  0.124433  0.948200  0.779610  0.021765   \n",
       "324  0.784709  0.201206  0.024666  0.117825  0.971090  0.642660  0.019205   \n",
       "325  1.029885  0.152294  0.025068  0.129777  0.954815  0.482501  0.016291   \n",
       "326  0.748542  0.203559  0.032958  0.118732  0.977122  0.655592  0.016083   \n",
       "327  0.812443  0.196179  0.031584  0.118066  0.967357  0.610038  0.016182   \n",
       "\n",
       "      Mg_apfu   Co_apfu   Zn_apfu   Ni_apfu  \n",
       "0    0.268278  0.001492  0.007134  0.004035  \n",
       "1    0.294224  0.000835  0.006412  0.005911  \n",
       "2    0.356607  0.001173  0.003414  0.006228  \n",
       "3    0.293343  0.000885  0.005576  0.006245  \n",
       "4    0.284688  0.000893  0.005628  0.006150  \n",
       "..        ...       ...       ...       ...  \n",
       "323  0.173215  0.000861  0.002475  0.010936  \n",
       "324  0.213563  0.001006  0.002663  0.010636  \n",
       "325  0.183505  0.001395  0.006035  0.007488  \n",
       "326  0.219374  0.001524  0.002337  0.009779  \n",
       "327  0.218619  0.001374  0.004575  0.009785  \n",
       "\n",
       "[263 rows x 11 columns]"
      ]
     },
     "execution_count": 29,
     "metadata": {},
     "output_type": "execute_result"
    }
   ],
   "source": [
    "df.loc[df.Mineral == 'spinel', [c for c in df.columns if 'apfu' in c]].dropna(how='any')"
   ]
  },
  {
   "cell_type": "code",
   "execution_count": 39,
   "metadata": {},
   "outputs": [
    {
     "data": {
      "text/plain": [
       "Index(['Mineral', 'Reference', 'Analysis Type', 'Location', 'Site', 'Section',\n",
       "       'Img. Ref. No.', 'Enclosing Phase', 'Na2O_pct', 'MgO_pct', 'Al2O3_pct',\n",
       "       'SiO2_pct', 'K2O_pct', 'CaO_pct', 'TiO2_pct', 'V2O5_pct', 'Cr2O3_pct',\n",
       "       'MnO_pct', 'FeO_pct', 'NiO_pct', 'CoO_pct', 'ZnO_pct', 'Total_pct',\n",
       "       'Sumox', 'Cr_apfu', 'Ti_apfu', 'V_apfu', 'Al_apfu', 'Fe2_apfu',\n",
       "       'Fe3_apfu', 'Mn_apfu', 'Mg_apfu', 'Co_apfu', 'Zn_apfu', 'Ni_apfu',\n",
       "       'Tot_cat', 'Mgno', 'Fe3no'],\n",
       "      dtype='object')"
      ]
     },
     "execution_count": 39,
     "metadata": {},
     "output_type": "execute_result"
    }
   ],
   "source": [
    "df.columns"
   ]
  },
  {
   "cell_type": "code",
   "execution_count": 49,
   "metadata": {},
   "outputs": [
    {
     "data": {
      "text/plain": [
       "array(['Chibacheka River Intrusion', 'Gudchichinsky Picrite',\n",
       "       'Lower Talnakh', 'Norilsk I', 'Talnakh', 'Kharaelakh'],\n",
       "      dtype=object)"
      ]
     },
     "execution_count": 49,
     "metadata": {},
     "output_type": "execute_result"
    }
   ],
   "source": [
    "df.Site.unique()"
   ]
  },
  {
   "cell_type": "markdown",
   "metadata": {},
   "source": [
    "---\n",
    "\n",
    "#### Basic Plotting\n",
    "\n",
    "`pandas` provides some basic plotting functionality, including for line plots and histograms:"
   ]
  },
  {
   "cell_type": "code",
   "execution_count": 31,
   "metadata": {},
   "outputs": [
    {
     "data": {
      "text/plain": [
       "<AxesSubplot:ylabel='Frequency'>"
      ]
     },
     "execution_count": 31,
     "metadata": {},
     "output_type": "execute_result"
    },
    {
     "data": {
      "image/png": "[encoded data removed]",
      "text/plain": [
       "<Figure size 432x288 with 1 Axes>"
      ]
     },
     "metadata": {
      "needs_background": "light"
     },
     "output_type": "display_data"
    }
   ],
   "source": [
    "df.loc[df.Mineral == 'spinel', [c for c in df.columns if 'apfu' in c]].dropna(how='any').plot.hist(alpha=0.5)"
   ]
  },
  {
   "cell_type": "markdown",
   "metadata": {},
   "source": [
    "It also allows easy access to grouping and aggregation:"
   ]
  },
  {
   "cell_type": "code",
   "execution_count": 64,
   "metadata": {},
   "outputs": [
    {
     "data": {
      "text/plain": [
       "<matplotlib.legend.Legend at 0x18990d18048>"
      ]
     },
     "execution_count": 64,
     "metadata": {},
     "output_type": "execute_result"
    },
    {
     "data": {
      "image/png": "[encoded data removed]",
      "text/plain": [
       "<Figure size 432x288 with 1 Axes>"
      ]
     },
     "metadata": {
      "needs_background": "light"
     },
     "output_type": "display_data"
    }
   ],
   "source": [
    "df['Cr_apfu'].groupby(df['Site']).plot.hist(alpha=0.5)\n",
    "plt.legend()"
   ]
  },
  {
   "cell_type": "markdown",
   "metadata": {},
   "source": [
    "`pyrolite` in many ways aims to replicate this type of API which is centred around your data, allowing you do directly work from dataframes to transform your data and create visualisations."
   ]
  },
  {
   "cell_type": "markdown",
   "metadata": {},
   "source": [
    "----\n",
    "<div class='alert alert-warning'> <b> <font size=\"+1\">Checkpoint & Time Check</font></b><br>How are things going? We should be about 50 mins in.</div>\n",
    "\n",
    "----"
   ]
  },
  {
   "cell_type": "markdown",
   "metadata": {},
   "source": [
    "| [**Overview**](./00_overview.ipynb) | [Getting Started](./01_jupyter_python.ipynb) | **Examples:** | [Access](./02_accessing_indexing.ipynb) | [Transform](./03_transform.ipynb) | [Plotting](./04_simple_vis.ipynb) | [Norm-Spiders](./05_norm_spiders.ipynb) | [Minerals](./06_minerals.ipynb) | [lambdas](./07_lambdas.ipynb) |\n",
    "| ----------------------------------- | -------------------------------------------- | ------------- | --------------------------------------- | --------------------------------- | --------------------------------- | --------------------------------------- | ------------------------------- | ----------------------------- |"
   ]
  }
 ],
 "metadata": {
  "kernelspec": {
   "display_name": "pyrolite",
   "language": "python",
   "name": "pyrolite"
  },
  "language_info": {
   "codemirror_mode": {
    "name": "ipython",
    "version": 3
   },
   "file_extension": ".py",
   "mimetype": "text/x-python",
   "name": "python",
   "nbconvert_exporter": "python",
   "pygments_lexer": "ipython3",
   "version": "3.7.9"
  }
 },
 "nbformat": 4,
 "nbformat_minor": 4
}
