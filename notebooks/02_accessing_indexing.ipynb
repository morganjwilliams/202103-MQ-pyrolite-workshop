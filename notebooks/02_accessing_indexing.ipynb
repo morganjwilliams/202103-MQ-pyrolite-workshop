{
 "cells": [
  {
   "cell_type": "markdown",
   "metadata": {},
   "source": [
    "| [**Overview**](./00_overview.ipynb) | [Getting Started](./01_jupyter_python.ipynb) | **Examples:** | [Access](./02_accessing_indexing.ipynb) | [Transform](./03_transform.ipynb) | [Plotting](./04_simple_vis.ipynb) | [Norm-Spiders](./05_norm_spiders.ipynb) | [Minerals](./06_minerals.ipynb) | [lambdas](./07_lambdas.ipynb) |\n",
    "| ----------------------------------- | -------------------------------------------- | ------------- | --------------------------------------- | --------------------------------- | --------------------------------- | --------------------------------------- | ------------------------------- | ----------------------------- |\n",
    "\n",
    "# Acccessing and Indexing Geochemical Data with pyrolite\n",
    "##### *~6 min*\n",
    "\n",
    "The `pyrolite.pyrochem` API provides access to indexing and transformation functions. This allows easy subsetting of geochemical datasets which can otherwise be unweildly (expecially as the number of columns increases..). To provide a simple illustration we generate a synthetic dataset to work from, which contains an array of typical geochemical measures - oxide components, element components (here as ppm), element ratios and isotope ratios. While this size dataset is managable, some of the indexing tools pyrolite provides make it straightforward to pull out different parts of the dataset.\n",
    "\n",
    "A key thing to note here is that `pyrolite` provides a range of built-in functionality around known elements, oxides and isotope ratios. Typically, this means that having column names which are names of elements, oxide components or isotope ratios in the form $^{xx}A/^{xy}B$. This means you'll need to keep track of units etc yourself - which is where comments can be useful. This aspect may change in the future, with some ability to deal with units, non-standard column names and potentially even molecular ions (e.g. for hydrogeochemistry).\n",
    "\n",
    "First let's create some data to play with:"
   ]
  },
  {
   "cell_type": "code",
   "execution_count": 1,
   "metadata": {
    "collapsed": false,
    "jupyter": {
     "outputs_hidden": false
    }
   },
   "outputs": [
    {
     "data": {
      "text/html": [
       "<div>\n",
       "<style scoped>\n",
       "    .dataframe tbody tr th:only-of-type {\n",
       "        vertical-align: middle;\n",
       "    }\n",
       "\n",
       "    .dataframe tbody tr th {\n",
       "        vertical-align: top;\n",
       "    }\n",
       "\n",
       "    .dataframe thead th {\n",
       "        text-align: right;\n",
       "    }\n",
       "</style>\n",
       "<table border=\"1\" class=\"dataframe\">\n",
       "  <thead>\n",
       "    <tr style=\"text-align: right;\">\n",
       "      <th></th>\n",
       "      <th>CaO</th>\n",
       "      <th>MgO</th>\n",
       "      <th>SiO2</th>\n",
       "      <th>FeO</th>\n",
       "      <th>Na2O</th>\n",
       "      <th>Ni</th>\n",
       "      <th>Ti</th>\n",
       "      <th>La</th>\n",
       "      <th>Lu</th>\n",
       "      <th>Te</th>\n",
       "      <th>Sr87/Sr86</th>\n",
       "    </tr>\n",
       "  </thead>\n",
       "  <tbody>\n",
       "    <tr>\n",
       "      <th>0</th>\n",
       "      <td>26.799</td>\n",
       "      <td>2.489</td>\n",
       "      <td>5.336</td>\n",
       "      <td>1.992</td>\n",
       "      <td>10.286</td>\n",
       "      <td>174.312</td>\n",
       "      <td>49.889</td>\n",
       "      <td>75.802</td>\n",
       "      <td>163.274</td>\n",
       "      <td>67.706</td>\n",
       "      <td>0.71</td>\n",
       "    </tr>\n",
       "    <tr>\n",
       "      <th>1</th>\n",
       "      <td>25.390</td>\n",
       "      <td>2.804</td>\n",
       "      <td>5.797</td>\n",
       "      <td>2.080</td>\n",
       "      <td>10.005</td>\n",
       "      <td>202.835</td>\n",
       "      <td>47.814</td>\n",
       "      <td>80.021</td>\n",
       "      <td>141.490</td>\n",
       "      <td>67.088</td>\n",
       "      <td>0.71</td>\n",
       "    </tr>\n",
       "    <tr>\n",
       "      <th>2</th>\n",
       "      <td>25.687</td>\n",
       "      <td>2.663</td>\n",
       "      <td>5.431</td>\n",
       "      <td>2.035</td>\n",
       "      <td>10.275</td>\n",
       "      <td>188.772</td>\n",
       "      <td>48.529</td>\n",
       "      <td>78.162</td>\n",
       "      <td>156.912</td>\n",
       "      <td>66.723</td>\n",
       "      <td>0.71</td>\n",
       "    </tr>\n",
       "    <tr>\n",
       "      <th>3</th>\n",
       "      <td>27.209</td>\n",
       "      <td>2.447</td>\n",
       "      <td>5.256</td>\n",
       "      <td>2.058</td>\n",
       "      <td>10.576</td>\n",
       "      <td>187.208</td>\n",
       "      <td>50.801</td>\n",
       "      <td>78.834</td>\n",
       "      <td>141.636</td>\n",
       "      <td>66.058</td>\n",
       "      <td>0.71</td>\n",
       "    </tr>\n",
       "    <tr>\n",
       "      <th>4</th>\n",
       "      <td>28.377</td>\n",
       "      <td>2.428</td>\n",
       "      <td>5.508</td>\n",
       "      <td>1.970</td>\n",
       "      <td>9.678</td>\n",
       "      <td>181.408</td>\n",
       "      <td>49.806</td>\n",
       "      <td>78.983</td>\n",
       "      <td>145.503</td>\n",
       "      <td>64.687</td>\n",
       "      <td>0.71</td>\n",
       "    </tr>\n",
       "    <tr>\n",
       "      <th>5</th>\n",
       "      <td>25.889</td>\n",
       "      <td>2.754</td>\n",
       "      <td>5.649</td>\n",
       "      <td>1.968</td>\n",
       "      <td>10.376</td>\n",
       "      <td>189.780</td>\n",
       "      <td>47.289</td>\n",
       "      <td>78.516</td>\n",
       "      <td>151.666</td>\n",
       "      <td>66.394</td>\n",
       "      <td>0.71</td>\n",
       "    </tr>\n",
       "    <tr>\n",
       "      <th>6</th>\n",
       "      <td>27.587</td>\n",
       "      <td>2.355</td>\n",
       "      <td>4.963</td>\n",
       "      <td>2.085</td>\n",
       "      <td>10.287</td>\n",
       "      <td>188.452</td>\n",
       "      <td>50.007</td>\n",
       "      <td>76.491</td>\n",
       "      <td>146.636</td>\n",
       "      <td>65.644</td>\n",
       "      <td>0.71</td>\n",
       "    </tr>\n",
       "    <tr>\n",
       "      <th>7</th>\n",
       "      <td>24.560</td>\n",
       "      <td>2.744</td>\n",
       "      <td>5.245</td>\n",
       "      <td>2.099</td>\n",
       "      <td>10.623</td>\n",
       "      <td>194.780</td>\n",
       "      <td>47.718</td>\n",
       "      <td>77.234</td>\n",
       "      <td>160.336</td>\n",
       "      <td>67.215</td>\n",
       "      <td>0.71</td>\n",
       "    </tr>\n",
       "    <tr>\n",
       "      <th>8</th>\n",
       "      <td>27.816</td>\n",
       "      <td>2.428</td>\n",
       "      <td>5.259</td>\n",
       "      <td>2.048</td>\n",
       "      <td>10.187</td>\n",
       "      <td>183.689</td>\n",
       "      <td>49.761</td>\n",
       "      <td>78.738</td>\n",
       "      <td>145.150</td>\n",
       "      <td>65.281</td>\n",
       "      <td>0.71</td>\n",
       "    </tr>\n",
       "    <tr>\n",
       "      <th>9</th>\n",
       "      <td>26.730</td>\n",
       "      <td>2.423</td>\n",
       "      <td>5.129</td>\n",
       "      <td>2.016</td>\n",
       "      <td>10.200</td>\n",
       "      <td>187.894</td>\n",
       "      <td>49.426</td>\n",
       "      <td>76.077</td>\n",
       "      <td>155.730</td>\n",
       "      <td>65.880</td>\n",
       "      <td>0.71</td>\n",
       "    </tr>\n",
       "  </tbody>\n",
       "</table>\n",
       "</div>"
      ],
      "text/plain": [
       "      CaO    MgO   SiO2    FeO    Na2O       Ni      Ti      La       Lu  \\\n",
       "0  26.799  2.489  5.336  1.992  10.286  174.312  49.889  75.802  163.274   \n",
       "1  25.390  2.804  5.797  2.080  10.005  202.835  47.814  80.021  141.490   \n",
       "2  25.687  2.663  5.431  2.035  10.275  188.772  48.529  78.162  156.912   \n",
       "3  27.209  2.447  5.256  2.058  10.576  187.208  50.801  78.834  141.636   \n",
       "4  28.377  2.428  5.508  1.970   9.678  181.408  49.806  78.983  145.503   \n",
       "5  25.889  2.754  5.649  1.968  10.376  189.780  47.289  78.516  151.666   \n",
       "6  27.587  2.355  4.963  2.085  10.287  188.452  50.007  76.491  146.636   \n",
       "7  24.560  2.744  5.245  2.099  10.623  194.780  47.718  77.234  160.336   \n",
       "8  27.816  2.428  5.259  2.048  10.187  183.689  49.761  78.738  145.150   \n",
       "9  26.730  2.423  5.129  2.016  10.200  187.894  49.426  76.077  155.730   \n",
       "\n",
       "       Te  Sr87/Sr86  \n",
       "0  67.706       0.71  \n",
       "1  67.088       0.71  \n",
       "2  66.723       0.71  \n",
       "3  66.058       0.71  \n",
       "4  64.687       0.71  \n",
       "5  66.394       0.71  \n",
       "6  65.644       0.71  \n",
       "7  67.215       0.71  \n",
       "8  65.281       0.71  \n",
       "9  65.880       0.71  "
      ]
     },
     "execution_count": 1,
     "metadata": {},
     "output_type": "execute_result"
    }
   ],
   "source": [
    "import pyrolite.geochem\n",
    "import pandas as pd\n",
    "import numpy as np\n",
    "from pyrolite.util.synthetic import normal_frame\n",
    "\n",
    "pd.set_option(\"precision\", 3)  # smaller graphical outputs\n",
    " \n",
    "df = normal_frame(columns=['CaO', 'MgO', 'SiO2', 'FeO','Na2O', 'Ni', 'Ti', 'La', 'Lu', 'Te']) * 100\n",
    "df[['Ni', 'Ti', 'La', 'Lu', 'Te']] *= 10\n",
    "df['Sr87/Sr86'] = 0.0700  / 0.0986 + np.random.randn(df.index.size) * 0.0001\n",
    "df"
   ]
  },
  {
   "cell_type": "markdown",
   "metadata": {},
   "source": [
    "To save a bit of space, below we'll use `df.head(2)` to restrict the output to just the top two rows:"
   ]
  },
  {
   "cell_type": "code",
   "execution_count": 2,
   "metadata": {},
   "outputs": [
    {
     "data": {
      "text/html": [
       "<div>\n",
       "<style scoped>\n",
       "    .dataframe tbody tr th:only-of-type {\n",
       "        vertical-align: middle;\n",
       "    }\n",
       "\n",
       "    .dataframe tbody tr th {\n",
       "        vertical-align: top;\n",
       "    }\n",
       "\n",
       "    .dataframe thead th {\n",
       "        text-align: right;\n",
       "    }\n",
       "</style>\n",
       "<table border=\"1\" class=\"dataframe\">\n",
       "  <thead>\n",
       "    <tr style=\"text-align: right;\">\n",
       "      <th></th>\n",
       "      <th>CaO</th>\n",
       "      <th>MgO</th>\n",
       "      <th>SiO2</th>\n",
       "      <th>FeO</th>\n",
       "      <th>Na2O</th>\n",
       "      <th>Ni</th>\n",
       "      <th>Ti</th>\n",
       "      <th>La</th>\n",
       "      <th>Lu</th>\n",
       "      <th>Te</th>\n",
       "      <th>Sr87/Sr86</th>\n",
       "    </tr>\n",
       "  </thead>\n",
       "  <tbody>\n",
       "    <tr>\n",
       "      <th>0</th>\n",
       "      <td>26.799</td>\n",
       "      <td>2.489</td>\n",
       "      <td>5.336</td>\n",
       "      <td>1.992</td>\n",
       "      <td>10.286</td>\n",
       "      <td>174.312</td>\n",
       "      <td>49.889</td>\n",
       "      <td>75.802</td>\n",
       "      <td>163.274</td>\n",
       "      <td>67.706</td>\n",
       "      <td>0.71</td>\n",
       "    </tr>\n",
       "    <tr>\n",
       "      <th>1</th>\n",
       "      <td>25.390</td>\n",
       "      <td>2.804</td>\n",
       "      <td>5.797</td>\n",
       "      <td>2.080</td>\n",
       "      <td>10.005</td>\n",
       "      <td>202.835</td>\n",
       "      <td>47.814</td>\n",
       "      <td>80.021</td>\n",
       "      <td>141.490</td>\n",
       "      <td>67.088</td>\n",
       "      <td>0.71</td>\n",
       "    </tr>\n",
       "  </tbody>\n",
       "</table>\n",
       "</div>"
      ],
      "text/plain": [
       "      CaO    MgO   SiO2    FeO    Na2O       Ni      Ti      La       Lu  \\\n",
       "0  26.799  2.489  5.336  1.992  10.286  174.312  49.889  75.802  163.274   \n",
       "1  25.390  2.804  5.797  2.080  10.005  202.835  47.814  80.021  141.490   \n",
       "\n",
       "       Te  Sr87/Sr86  \n",
       "0  67.706       0.71  \n",
       "1  67.088       0.71  "
      ]
     },
     "execution_count": 2,
     "metadata": {},
     "output_type": "execute_result"
    }
   ],
   "source": [
    "df.head(2)"
   ]
  },
  {
   "cell_type": "markdown",
   "metadata": {},
   "source": [
    "### Selecting Data\n",
    "\n",
    "To select a subset of columns from the dataframe, the `pyrolite.pyrochem` API has a few built-in selectors:"
   ]
  },
  {
   "cell_type": "code",
   "execution_count": 3,
   "metadata": {
    "collapsed": false,
    "jupyter": {
     "outputs_hidden": false
    }
   },
   "outputs": [
    {
     "data": {
      "text/html": [
       "<div>\n",
       "<style scoped>\n",
       "    .dataframe tbody tr th:only-of-type {\n",
       "        vertical-align: middle;\n",
       "    }\n",
       "\n",
       "    .dataframe tbody tr th {\n",
       "        vertical-align: top;\n",
       "    }\n",
       "\n",
       "    .dataframe thead th {\n",
       "        text-align: right;\n",
       "    }\n",
       "</style>\n",
       "<table border=\"1\" class=\"dataframe\">\n",
       "  <thead>\n",
       "    <tr style=\"text-align: right;\">\n",
       "      <th></th>\n",
       "      <th>CaO</th>\n",
       "      <th>MgO</th>\n",
       "      <th>SiO2</th>\n",
       "      <th>FeO</th>\n",
       "      <th>Na2O</th>\n",
       "    </tr>\n",
       "  </thead>\n",
       "  <tbody>\n",
       "    <tr>\n",
       "      <th>0</th>\n",
       "      <td>26.799</td>\n",
       "      <td>2.489</td>\n",
       "      <td>5.336</td>\n",
       "      <td>1.992</td>\n",
       "      <td>10.286</td>\n",
       "    </tr>\n",
       "    <tr>\n",
       "      <th>1</th>\n",
       "      <td>25.390</td>\n",
       "      <td>2.804</td>\n",
       "      <td>5.797</td>\n",
       "      <td>2.080</td>\n",
       "      <td>10.005</td>\n",
       "    </tr>\n",
       "  </tbody>\n",
       "</table>\n",
       "</div>"
      ],
      "text/plain": [
       "      CaO    MgO   SiO2    FeO    Na2O\n",
       "0  26.799  2.489  5.336  1.992  10.286\n",
       "1  25.390  2.804  5.797  2.080  10.005"
      ]
     },
     "execution_count": 3,
     "metadata": {},
     "output_type": "execute_result"
    }
   ],
   "source": [
    "df.head(2).pyrochem.oxides"
   ]
  },
  {
   "cell_type": "code",
   "execution_count": 4,
   "metadata": {
    "collapsed": false,
    "jupyter": {
     "outputs_hidden": false
    }
   },
   "outputs": [
    {
     "data": {
      "text/html": [
       "<div>\n",
       "<style scoped>\n",
       "    .dataframe tbody tr th:only-of-type {\n",
       "        vertical-align: middle;\n",
       "    }\n",
       "\n",
       "    .dataframe tbody tr th {\n",
       "        vertical-align: top;\n",
       "    }\n",
       "\n",
       "    .dataframe thead th {\n",
       "        text-align: right;\n",
       "    }\n",
       "</style>\n",
       "<table border=\"1\" class=\"dataframe\">\n",
       "  <thead>\n",
       "    <tr style=\"text-align: right;\">\n",
       "      <th></th>\n",
       "      <th>Ni</th>\n",
       "      <th>Ti</th>\n",
       "      <th>La</th>\n",
       "      <th>Lu</th>\n",
       "      <th>Te</th>\n",
       "    </tr>\n",
       "  </thead>\n",
       "  <tbody>\n",
       "    <tr>\n",
       "      <th>0</th>\n",
       "      <td>174.312</td>\n",
       "      <td>49.889</td>\n",
       "      <td>75.802</td>\n",
       "      <td>163.274</td>\n",
       "      <td>67.706</td>\n",
       "    </tr>\n",
       "    <tr>\n",
       "      <th>1</th>\n",
       "      <td>202.835</td>\n",
       "      <td>47.814</td>\n",
       "      <td>80.021</td>\n",
       "      <td>141.490</td>\n",
       "      <td>67.088</td>\n",
       "    </tr>\n",
       "  </tbody>\n",
       "</table>\n",
       "</div>"
      ],
      "text/plain": [
       "        Ni      Ti      La       Lu      Te\n",
       "0  174.312  49.889  75.802  163.274  67.706\n",
       "1  202.835  47.814  80.021  141.490  67.088"
      ]
     },
     "execution_count": 4,
     "metadata": {},
     "output_type": "execute_result"
    }
   ],
   "source": [
    "df.head(2).pyrochem.elements"
   ]
  },
  {
   "cell_type": "code",
   "execution_count": 5,
   "metadata": {
    "collapsed": false,
    "jupyter": {
     "outputs_hidden": false
    }
   },
   "outputs": [
    {
     "data": {
      "text/html": [
       "<div>\n",
       "<style scoped>\n",
       "    .dataframe tbody tr th:only-of-type {\n",
       "        vertical-align: middle;\n",
       "    }\n",
       "\n",
       "    .dataframe tbody tr th {\n",
       "        vertical-align: top;\n",
       "    }\n",
       "\n",
       "    .dataframe thead th {\n",
       "        text-align: right;\n",
       "    }\n",
       "</style>\n",
       "<table border=\"1\" class=\"dataframe\">\n",
       "  <thead>\n",
       "    <tr style=\"text-align: right;\">\n",
       "      <th></th>\n",
       "      <th>La</th>\n",
       "      <th>Lu</th>\n",
       "    </tr>\n",
       "  </thead>\n",
       "  <tbody>\n",
       "    <tr>\n",
       "      <th>0</th>\n",
       "      <td>75.802</td>\n",
       "      <td>163.274</td>\n",
       "    </tr>\n",
       "    <tr>\n",
       "      <th>1</th>\n",
       "      <td>80.021</td>\n",
       "      <td>141.490</td>\n",
       "    </tr>\n",
       "  </tbody>\n",
       "</table>\n",
       "</div>"
      ],
      "text/plain": [
       "       La       Lu\n",
       "0  75.802  163.274\n",
       "1  80.021  141.490"
      ]
     },
     "execution_count": 5,
     "metadata": {},
     "output_type": "execute_result"
    }
   ],
   "source": [
    "df.head(2).pyrochem.REE"
   ]
  },
  {
   "cell_type": "code",
   "execution_count": 6,
   "metadata": {
    "collapsed": false,
    "jupyter": {
     "outputs_hidden": false
    }
   },
   "outputs": [
    {
     "data": {
      "text/html": [
       "<div>\n",
       "<style scoped>\n",
       "    .dataframe tbody tr th:only-of-type {\n",
       "        vertical-align: middle;\n",
       "    }\n",
       "\n",
       "    .dataframe tbody tr th {\n",
       "        vertical-align: top;\n",
       "    }\n",
       "\n",
       "    .dataframe thead th {\n",
       "        text-align: right;\n",
       "    }\n",
       "</style>\n",
       "<table border=\"1\" class=\"dataframe\">\n",
       "  <thead>\n",
       "    <tr style=\"text-align: right;\">\n",
       "      <th></th>\n",
       "      <th>La</th>\n",
       "      <th>Lu</th>\n",
       "    </tr>\n",
       "  </thead>\n",
       "  <tbody>\n",
       "    <tr>\n",
       "      <th>0</th>\n",
       "      <td>75.802</td>\n",
       "      <td>163.274</td>\n",
       "    </tr>\n",
       "    <tr>\n",
       "      <th>1</th>\n",
       "      <td>80.021</td>\n",
       "      <td>141.490</td>\n",
       "    </tr>\n",
       "  </tbody>\n",
       "</table>\n",
       "</div>"
      ],
      "text/plain": [
       "       La       Lu\n",
       "0  75.802  163.274\n",
       "1  80.021  141.490"
      ]
     },
     "execution_count": 6,
     "metadata": {},
     "output_type": "execute_result"
    }
   ],
   "source": [
    "df.head(2).pyrochem.REY"
   ]
  },
  {
   "cell_type": "code",
   "execution_count": 7,
   "metadata": {
    "collapsed": false,
    "jupyter": {
     "outputs_hidden": false
    }
   },
   "outputs": [
    {
     "data": {
      "text/html": [
       "<div>\n",
       "<style scoped>\n",
       "    .dataframe tbody tr th:only-of-type {\n",
       "        vertical-align: middle;\n",
       "    }\n",
       "\n",
       "    .dataframe tbody tr th {\n",
       "        vertical-align: top;\n",
       "    }\n",
       "\n",
       "    .dataframe thead th {\n",
       "        text-align: right;\n",
       "    }\n",
       "</style>\n",
       "<table border=\"1\" class=\"dataframe\">\n",
       "  <thead>\n",
       "    <tr style=\"text-align: right;\">\n",
       "      <th></th>\n",
       "      <th>CaO</th>\n",
       "      <th>MgO</th>\n",
       "      <th>SiO2</th>\n",
       "      <th>FeO</th>\n",
       "      <th>Na2O</th>\n",
       "      <th>Ni</th>\n",
       "      <th>Ti</th>\n",
       "      <th>La</th>\n",
       "      <th>Lu</th>\n",
       "      <th>Te</th>\n",
       "    </tr>\n",
       "  </thead>\n",
       "  <tbody>\n",
       "    <tr>\n",
       "      <th>0</th>\n",
       "      <td>26.799</td>\n",
       "      <td>2.489</td>\n",
       "      <td>5.336</td>\n",
       "      <td>1.992</td>\n",
       "      <td>10.286</td>\n",
       "      <td>174.312</td>\n",
       "      <td>49.889</td>\n",
       "      <td>75.802</td>\n",
       "      <td>163.274</td>\n",
       "      <td>67.706</td>\n",
       "    </tr>\n",
       "    <tr>\n",
       "      <th>1</th>\n",
       "      <td>25.390</td>\n",
       "      <td>2.804</td>\n",
       "      <td>5.797</td>\n",
       "      <td>2.080</td>\n",
       "      <td>10.005</td>\n",
       "      <td>202.835</td>\n",
       "      <td>47.814</td>\n",
       "      <td>80.021</td>\n",
       "      <td>141.490</td>\n",
       "      <td>67.088</td>\n",
       "    </tr>\n",
       "  </tbody>\n",
       "</table>\n",
       "</div>"
      ],
      "text/plain": [
       "      CaO    MgO   SiO2    FeO    Na2O       Ni      Ti      La       Lu  \\\n",
       "0  26.799  2.489  5.336  1.992  10.286  174.312  49.889  75.802  163.274   \n",
       "1  25.390  2.804  5.797  2.080  10.005  202.835  47.814  80.021  141.490   \n",
       "\n",
       "       Te  \n",
       "0  67.706  \n",
       "1  67.088  "
      ]
     },
     "execution_count": 7,
     "metadata": {},
     "output_type": "execute_result"
    }
   ],
   "source": [
    "df.head(2).pyrochem.compositional"
   ]
  },
  {
   "cell_type": "code",
   "execution_count": 8,
   "metadata": {
    "collapsed": false,
    "jupyter": {
     "outputs_hidden": false
    }
   },
   "outputs": [
    {
     "data": {
      "text/html": [
       "<div>\n",
       "<style scoped>\n",
       "    .dataframe tbody tr th:only-of-type {\n",
       "        vertical-align: middle;\n",
       "    }\n",
       "\n",
       "    .dataframe tbody tr th {\n",
       "        vertical-align: top;\n",
       "    }\n",
       "\n",
       "    .dataframe thead th {\n",
       "        text-align: right;\n",
       "    }\n",
       "</style>\n",
       "<table border=\"1\" class=\"dataframe\">\n",
       "  <thead>\n",
       "    <tr style=\"text-align: right;\">\n",
       "      <th></th>\n",
       "      <th>Sr87/Sr86</th>\n",
       "    </tr>\n",
       "  </thead>\n",
       "  <tbody>\n",
       "    <tr>\n",
       "      <th>0</th>\n",
       "      <td>0.71</td>\n",
       "    </tr>\n",
       "    <tr>\n",
       "      <th>1</th>\n",
       "      <td>0.71</td>\n",
       "    </tr>\n",
       "  </tbody>\n",
       "</table>\n",
       "</div>"
      ],
      "text/plain": [
       "   Sr87/Sr86\n",
       "0       0.71\n",
       "1       0.71"
      ]
     },
     "execution_count": 8,
     "metadata": {},
     "output_type": "execute_result"
    }
   ],
   "source": [
    "df.head(2).pyrochem.isotope_ratios"
   ]
  },
  {
   "cell_type": "markdown",
   "metadata": {},
   "source": [
    "---\n",
    "These selectors can also be used to re-assign modified subsets back to the dataframe - useful if you wanted to just process/scale/transform/standardise a subset of the data:"
   ]
  },
  {
   "cell_type": "code",
   "execution_count": 9,
   "metadata": {},
   "outputs": [],
   "source": [
    "df.pyrochem.isotope_ratios /= 0.7016"
   ]
  },
  {
   "cell_type": "code",
   "execution_count": 10,
   "metadata": {},
   "outputs": [
    {
     "data": {
      "text/html": [
       "<div>\n",
       "<style scoped>\n",
       "    .dataframe tbody tr th:only-of-type {\n",
       "        vertical-align: middle;\n",
       "    }\n",
       "\n",
       "    .dataframe tbody tr th {\n",
       "        vertical-align: top;\n",
       "    }\n",
       "\n",
       "    .dataframe thead th {\n",
       "        text-align: right;\n",
       "    }\n",
       "</style>\n",
       "<table border=\"1\" class=\"dataframe\">\n",
       "  <thead>\n",
       "    <tr style=\"text-align: right;\">\n",
       "      <th></th>\n",
       "      <th>Sr87/Sr86</th>\n",
       "    </tr>\n",
       "  </thead>\n",
       "  <tbody>\n",
       "    <tr>\n",
       "      <th>0</th>\n",
       "      <td>1.012</td>\n",
       "    </tr>\n",
       "    <tr>\n",
       "      <th>1</th>\n",
       "      <td>1.012</td>\n",
       "    </tr>\n",
       "  </tbody>\n",
       "</table>\n",
       "</div>"
      ],
      "text/plain": [
       "   Sr87/Sr86\n",
       "0      1.012\n",
       "1      1.012"
      ]
     },
     "execution_count": 10,
     "metadata": {},
     "output_type": "execute_result"
    }
   ],
   "source": [
    "df.head(2).pyrochem.isotope_ratios"
   ]
  },
  {
   "cell_type": "markdown",
   "metadata": {},
   "source": [
    "------\n",
    "### Listing Columns\n",
    "If you just want the column names, it's easy enough to get those too (these are actually used in the indexing above):"
   ]
  },
  {
   "cell_type": "code",
   "execution_count": 11,
   "metadata": {
    "collapsed": false,
    "jupyter": {
     "outputs_hidden": false
    }
   },
   "outputs": [
    {
     "data": {
      "text/plain": [
       "['CaO', 'MgO', 'SiO2', 'FeO', 'Na2O']"
      ]
     },
     "execution_count": 11,
     "metadata": {},
     "output_type": "execute_result"
    }
   ],
   "source": [
    "df.pyrochem.list_oxides"
   ]
  },
  {
   "cell_type": "code",
   "execution_count": 12,
   "metadata": {
    "collapsed": false,
    "jupyter": {
     "outputs_hidden": false
    }
   },
   "outputs": [
    {
     "data": {
      "text/plain": [
       "['Ni', 'Ti', 'La', 'Lu', 'Te']"
      ]
     },
     "execution_count": 12,
     "metadata": {},
     "output_type": "execute_result"
    }
   ],
   "source": [
    "df.pyrochem.list_elements"
   ]
  },
  {
   "cell_type": "code",
   "execution_count": 13,
   "metadata": {
    "collapsed": false,
    "jupyter": {
     "outputs_hidden": false
    }
   },
   "outputs": [
    {
     "data": {
      "text/plain": [
       "['La', 'Lu']"
      ]
     },
     "execution_count": 13,
     "metadata": {},
     "output_type": "execute_result"
    }
   ],
   "source": [
    "df.pyrochem.list_REE"
   ]
  },
  {
   "cell_type": "code",
   "execution_count": 14,
   "metadata": {
    "collapsed": false,
    "jupyter": {
     "outputs_hidden": false
    }
   },
   "outputs": [
    {
     "data": {
      "text/plain": [
       "['CaO', 'MgO', 'SiO2', 'FeO', 'Na2O', 'Ni', 'Ti', 'La', 'Lu', 'Te']"
      ]
     },
     "execution_count": 14,
     "metadata": {},
     "output_type": "execute_result"
    }
   ],
   "source": [
    "df.pyrochem.list_compositional"
   ]
  },
  {
   "cell_type": "code",
   "execution_count": 15,
   "metadata": {
    "collapsed": false,
    "jupyter": {
     "outputs_hidden": false
    }
   },
   "outputs": [
    {
     "data": {
      "text/plain": [
       "['Sr87/Sr86']"
      ]
     },
     "execution_count": 15,
     "metadata": {},
     "output_type": "execute_result"
    }
   ],
   "source": [
    "df.pyrochem.list_isotope_ratios"
   ]
  },
  {
   "cell_type": "markdown",
   "metadata": {},
   "source": [
    "----\n",
    "<div class='alert alert-warning'> <b> <font size=\"+1\">Checkpoint & Time Check</font></b><br>How are things going?</div>\n",
    "\n",
    "----"
   ]
  },
  {
   "cell_type": "markdown",
   "metadata": {},
   "source": [
    "| [**Overview**](./00_overview.ipynb) | [Getting Started](./01_jupyter_python.ipynb) | **Examples:** | [Access](./02_accessing_indexing.ipynb) | [Transform](./03_transform.ipynb) | [Plotting](./04_simple_vis.ipynb) | [Norm-Spiders](./05_norm_spiders.ipynb) | [Minerals](./06_minerals.ipynb) | [lambdas](./07_lambdas.ipynb) |\n",
    "| ----------------------------------- | -------------------------------------------- | ------------- | --------------------------------------- | --------------------------------- | --------------------------------- | --------------------------------------- | ------------------------------- | ----------------------------- |"
   ]
  }
 ],
 "metadata": {
  "kernelspec": {
   "display_name": "pyrolite",
   "language": "python",
   "name": "pyrolite"
  },
  "language_info": {
   "codemirror_mode": {
    "name": "ipython",
    "version": 3
   },
   "file_extension": ".py",
   "mimetype": "text/x-python",
   "name": "python",
   "nbconvert_exporter": "python",
   "pygments_lexer": "ipython3",
   "version": "3.7.9"
  }
 },
 "nbformat": 4,
 "nbformat_minor": 4
}
