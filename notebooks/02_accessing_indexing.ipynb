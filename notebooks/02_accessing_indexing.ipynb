{
 "cells": [
  {
   "cell_type": "markdown",
   "metadata": {},
   "source": [
    "| [**Overview**](./00_overview.ipynb) | [Getting Started](./01_jupyter_python.ipynb) | **Examples:** | [Access](./02_accessing_indexing.ipynb) | [Transform](./03_transform.ipynb) | [Plotting](./04_simple_vis.ipynb) | [Norm-Spiders](./05_norm_spiders.ipynb) | [Minerals](./06_minerals.ipynb) | [lambdas](./07_lambdas.ipynb) |\n",
    "| ----------------------------------- | -------------------------------------------- | ------------- | --------------------------------------- | --------------------------------- | --------------------------------- | --------------------------------------- | ------------------------------- | ----------------------------- |\n",
    "\n",
    "# Acccessing and Indexing Geochemical Data with pyrolite\n",
    "\n",
    "The `pyrolite.pyrochem` API provides access to indexing and transformation functions. This allows easy subsetting of geochemical datasets which can otherwise be unweildly (expecially as the number of columns increases..). To provide a simple illustration we generate a synthetic dataset to work from, which contains an array of typical geochemical measures - oxide components, element components (here as ppm), element ratios and isotope ratios. While this size dataset is managable, some of the indexing tools pyrolite provides make it straightforward to pull out different parts of the dataset.\n",
    "\n",
    "First let's create some data to play with:"
   ]
  },
  {
   "cell_type": "code",
   "execution_count": 1,
   "metadata": {
    "collapsed": false,
    "jupyter": {
     "outputs_hidden": false
    }
   },
   "outputs": [
    {
     "data": {
      "text/html": [
       "<div>\n",
       "<style scoped>\n",
       "    .dataframe tbody tr th:only-of-type {\n",
       "        vertical-align: middle;\n",
       "    }\n",
       "\n",
       "    .dataframe tbody tr th {\n",
       "        vertical-align: top;\n",
       "    }\n",
       "\n",
       "    .dataframe thead th {\n",
       "        text-align: right;\n",
       "    }\n",
       "</style>\n",
       "<table border=\"1\" class=\"dataframe\">\n",
       "  <thead>\n",
       "    <tr style=\"text-align: right;\">\n",
       "      <th></th>\n",
       "      <th>CaO</th>\n",
       "      <th>MgO</th>\n",
       "      <th>SiO2</th>\n",
       "      <th>FeO</th>\n",
       "      <th>Na2O</th>\n",
       "      <th>Ni</th>\n",
       "      <th>Ti</th>\n",
       "      <th>La</th>\n",
       "      <th>Lu</th>\n",
       "      <th>Te</th>\n",
       "      <th>Sr87/Sr86</th>\n",
       "    </tr>\n",
       "  </thead>\n",
       "  <tbody>\n",
       "    <tr>\n",
       "      <th>0</th>\n",
       "      <td>19.213</td>\n",
       "      <td>7.386</td>\n",
       "      <td>2.087</td>\n",
       "      <td>12.848</td>\n",
       "      <td>2.133</td>\n",
       "      <td>219.826</td>\n",
       "      <td>59.398</td>\n",
       "      <td>66.515</td>\n",
       "      <td>148.534</td>\n",
       "      <td>69.059</td>\n",
       "      <td>0.71</td>\n",
       "    </tr>\n",
       "    <tr>\n",
       "      <th>1</th>\n",
       "      <td>23.243</td>\n",
       "      <td>7.622</td>\n",
       "      <td>1.942</td>\n",
       "      <td>11.966</td>\n",
       "      <td>2.108</td>\n",
       "      <td>178.674</td>\n",
       "      <td>52.868</td>\n",
       "      <td>61.888</td>\n",
       "      <td>168.871</td>\n",
       "      <td>68.887</td>\n",
       "      <td>0.71</td>\n",
       "    </tr>\n",
       "    <tr>\n",
       "      <th>2</th>\n",
       "      <td>24.804</td>\n",
       "      <td>7.572</td>\n",
       "      <td>1.928</td>\n",
       "      <td>11.838</td>\n",
       "      <td>1.967</td>\n",
       "      <td>167.284</td>\n",
       "      <td>53.228</td>\n",
       "      <td>59.914</td>\n",
       "      <td>171.430</td>\n",
       "      <td>67.046</td>\n",
       "      <td>0.71</td>\n",
       "    </tr>\n",
       "    <tr>\n",
       "      <th>3</th>\n",
       "      <td>23.592</td>\n",
       "      <td>7.305</td>\n",
       "      <td>1.972</td>\n",
       "      <td>11.794</td>\n",
       "      <td>2.183</td>\n",
       "      <td>181.350</td>\n",
       "      <td>53.921</td>\n",
       "      <td>63.207</td>\n",
       "      <td>163.088</td>\n",
       "      <td>69.977</td>\n",
       "      <td>0.71</td>\n",
       "    </tr>\n",
       "    <tr>\n",
       "      <th>4</th>\n",
       "      <td>21.861</td>\n",
       "      <td>7.438</td>\n",
       "      <td>2.017</td>\n",
       "      <td>12.190</td>\n",
       "      <td>2.151</td>\n",
       "      <td>191.239</td>\n",
       "      <td>56.564</td>\n",
       "      <td>64.286</td>\n",
       "      <td>159.201</td>\n",
       "      <td>72.142</td>\n",
       "      <td>0.71</td>\n",
       "    </tr>\n",
       "    <tr>\n",
       "      <th>5</th>\n",
       "      <td>22.412</td>\n",
       "      <td>6.988</td>\n",
       "      <td>2.178</td>\n",
       "      <td>12.497</td>\n",
       "      <td>2.081</td>\n",
       "      <td>179.923</td>\n",
       "      <td>52.543</td>\n",
       "      <td>62.410</td>\n",
       "      <td>174.872</td>\n",
       "      <td>68.692</td>\n",
       "      <td>0.71</td>\n",
       "    </tr>\n",
       "    <tr>\n",
       "      <th>6</th>\n",
       "      <td>23.265</td>\n",
       "      <td>7.424</td>\n",
       "      <td>1.978</td>\n",
       "      <td>11.988</td>\n",
       "      <td>2.140</td>\n",
       "      <td>171.309</td>\n",
       "      <td>54.513</td>\n",
       "      <td>62.290</td>\n",
       "      <td>173.298</td>\n",
       "      <td>70.636</td>\n",
       "      <td>0.71</td>\n",
       "    </tr>\n",
       "    <tr>\n",
       "      <th>7</th>\n",
       "      <td>23.349</td>\n",
       "      <td>7.085</td>\n",
       "      <td>2.047</td>\n",
       "      <td>12.009</td>\n",
       "      <td>2.215</td>\n",
       "      <td>181.011</td>\n",
       "      <td>51.930</td>\n",
       "      <td>63.102</td>\n",
       "      <td>168.698</td>\n",
       "      <td>68.211</td>\n",
       "      <td>0.71</td>\n",
       "    </tr>\n",
       "    <tr>\n",
       "      <th>8</th>\n",
       "      <td>22.995</td>\n",
       "      <td>7.243</td>\n",
       "      <td>2.112</td>\n",
       "      <td>12.366</td>\n",
       "      <td>1.979</td>\n",
       "      <td>182.930</td>\n",
       "      <td>53.440</td>\n",
       "      <td>61.690</td>\n",
       "      <td>167.189</td>\n",
       "      <td>67.811</td>\n",
       "      <td>0.71</td>\n",
       "    </tr>\n",
       "    <tr>\n",
       "      <th>9</th>\n",
       "      <td>24.420</td>\n",
       "      <td>7.197</td>\n",
       "      <td>1.900</td>\n",
       "      <td>11.833</td>\n",
       "      <td>2.105</td>\n",
       "      <td>178.943</td>\n",
       "      <td>52.220</td>\n",
       "      <td>61.783</td>\n",
       "      <td>164.127</td>\n",
       "      <td>68.373</td>\n",
       "      <td>0.71</td>\n",
       "    </tr>\n",
       "  </tbody>\n",
       "</table>\n",
       "</div>"
      ],
      "text/plain": [
       "      CaO    MgO   SiO2     FeO   Na2O       Ni      Ti      La       Lu  \\\n",
       "0  19.213  7.386  2.087  12.848  2.133  219.826  59.398  66.515  148.534   \n",
       "1  23.243  7.622  1.942  11.966  2.108  178.674  52.868  61.888  168.871   \n",
       "2  24.804  7.572  1.928  11.838  1.967  167.284  53.228  59.914  171.430   \n",
       "3  23.592  7.305  1.972  11.794  2.183  181.350  53.921  63.207  163.088   \n",
       "4  21.861  7.438  2.017  12.190  2.151  191.239  56.564  64.286  159.201   \n",
       "5  22.412  6.988  2.178  12.497  2.081  179.923  52.543  62.410  174.872   \n",
       "6  23.265  7.424  1.978  11.988  2.140  171.309  54.513  62.290  173.298   \n",
       "7  23.349  7.085  2.047  12.009  2.215  181.011  51.930  63.102  168.698   \n",
       "8  22.995  7.243  2.112  12.366  1.979  182.930  53.440  61.690  167.189   \n",
       "9  24.420  7.197  1.900  11.833  2.105  178.943  52.220  61.783  164.127   \n",
       "\n",
       "       Te  Sr87/Sr86  \n",
       "0  69.059       0.71  \n",
       "1  68.887       0.71  \n",
       "2  67.046       0.71  \n",
       "3  69.977       0.71  \n",
       "4  72.142       0.71  \n",
       "5  68.692       0.71  \n",
       "6  70.636       0.71  \n",
       "7  68.211       0.71  \n",
       "8  67.811       0.71  \n",
       "9  68.373       0.71  "
      ]
     },
     "execution_count": 1,
     "metadata": {},
     "output_type": "execute_result"
    }
   ],
   "source": [
    "import pyrolite.geochem\n",
    "import pandas as pd\n",
    "import numpy as np\n",
    "from pyrolite.util.synthetic import normal_frame\n",
    "\n",
    "pd.set_option(\"precision\", 3)  # smaller graphical outputs\n",
    " \n",
    "df = normal_frame(columns=['CaO', 'MgO', 'SiO2', 'FeO','Na2O', 'Ni', 'Ti', 'La', 'Lu', 'Te']) * 100\n",
    "df[['Ni', 'Ti', 'La', 'Lu', 'Te']] *= 10\n",
    "df['Sr87/Sr86'] = 0.0700  / 0.0986 + np.random.randn(df.index.size) * 0.0001\n",
    "df"
   ]
  },
  {
   "cell_type": "markdown",
   "metadata": {},
   "source": [
    "### Selecting Data"
   ]
  },
  {
   "cell_type": "code",
   "execution_count": 2,
   "metadata": {
    "collapsed": false,
    "jupyter": {
     "outputs_hidden": false
    }
   },
   "outputs": [
    {
     "data": {
      "text/html": [
       "<div>\n",
       "<style scoped>\n",
       "    .dataframe tbody tr th:only-of-type {\n",
       "        vertical-align: middle;\n",
       "    }\n",
       "\n",
       "    .dataframe tbody tr th {\n",
       "        vertical-align: top;\n",
       "    }\n",
       "\n",
       "    .dataframe thead th {\n",
       "        text-align: right;\n",
       "    }\n",
       "</style>\n",
       "<table border=\"1\" class=\"dataframe\">\n",
       "  <thead>\n",
       "    <tr style=\"text-align: right;\">\n",
       "      <th></th>\n",
       "      <th>CaO</th>\n",
       "      <th>MgO</th>\n",
       "      <th>SiO2</th>\n",
       "      <th>FeO</th>\n",
       "      <th>Na2O</th>\n",
       "    </tr>\n",
       "  </thead>\n",
       "  <tbody>\n",
       "    <tr>\n",
       "      <th>0</th>\n",
       "      <td>19.213</td>\n",
       "      <td>7.386</td>\n",
       "      <td>2.087</td>\n",
       "      <td>12.848</td>\n",
       "      <td>2.133</td>\n",
       "    </tr>\n",
       "    <tr>\n",
       "      <th>1</th>\n",
       "      <td>23.243</td>\n",
       "      <td>7.622</td>\n",
       "      <td>1.942</td>\n",
       "      <td>11.966</td>\n",
       "      <td>2.108</td>\n",
       "    </tr>\n",
       "  </tbody>\n",
       "</table>\n",
       "</div>"
      ],
      "text/plain": [
       "      CaO    MgO   SiO2     FeO   Na2O\n",
       "0  19.213  7.386  2.087  12.848  2.133\n",
       "1  23.243  7.622  1.942  11.966  2.108"
      ]
     },
     "execution_count": 2,
     "metadata": {},
     "output_type": "execute_result"
    }
   ],
   "source": [
    "df.head(2).pyrochem.oxides"
   ]
  },
  {
   "cell_type": "code",
   "execution_count": 3,
   "metadata": {
    "collapsed": false,
    "jupyter": {
     "outputs_hidden": false
    }
   },
   "outputs": [
    {
     "data": {
      "text/html": [
       "<div>\n",
       "<style scoped>\n",
       "    .dataframe tbody tr th:only-of-type {\n",
       "        vertical-align: middle;\n",
       "    }\n",
       "\n",
       "    .dataframe tbody tr th {\n",
       "        vertical-align: top;\n",
       "    }\n",
       "\n",
       "    .dataframe thead th {\n",
       "        text-align: right;\n",
       "    }\n",
       "</style>\n",
       "<table border=\"1\" class=\"dataframe\">\n",
       "  <thead>\n",
       "    <tr style=\"text-align: right;\">\n",
       "      <th></th>\n",
       "      <th>Ni</th>\n",
       "      <th>Ti</th>\n",
       "      <th>La</th>\n",
       "      <th>Lu</th>\n",
       "      <th>Te</th>\n",
       "    </tr>\n",
       "  </thead>\n",
       "  <tbody>\n",
       "    <tr>\n",
       "      <th>0</th>\n",
       "      <td>219.826</td>\n",
       "      <td>59.398</td>\n",
       "      <td>66.515</td>\n",
       "      <td>148.534</td>\n",
       "      <td>69.059</td>\n",
       "    </tr>\n",
       "    <tr>\n",
       "      <th>1</th>\n",
       "      <td>178.674</td>\n",
       "      <td>52.868</td>\n",
       "      <td>61.888</td>\n",
       "      <td>168.871</td>\n",
       "      <td>68.887</td>\n",
       "    </tr>\n",
       "  </tbody>\n",
       "</table>\n",
       "</div>"
      ],
      "text/plain": [
       "        Ni      Ti      La       Lu      Te\n",
       "0  219.826  59.398  66.515  148.534  69.059\n",
       "1  178.674  52.868  61.888  168.871  68.887"
      ]
     },
     "execution_count": 3,
     "metadata": {},
     "output_type": "execute_result"
    }
   ],
   "source": [
    "df.head(2).pyrochem.elements"
   ]
  },
  {
   "cell_type": "code",
   "execution_count": 4,
   "metadata": {
    "collapsed": false,
    "jupyter": {
     "outputs_hidden": false
    }
   },
   "outputs": [
    {
     "data": {
      "text/html": [
       "<div>\n",
       "<style scoped>\n",
       "    .dataframe tbody tr th:only-of-type {\n",
       "        vertical-align: middle;\n",
       "    }\n",
       "\n",
       "    .dataframe tbody tr th {\n",
       "        vertical-align: top;\n",
       "    }\n",
       "\n",
       "    .dataframe thead th {\n",
       "        text-align: right;\n",
       "    }\n",
       "</style>\n",
       "<table border=\"1\" class=\"dataframe\">\n",
       "  <thead>\n",
       "    <tr style=\"text-align: right;\">\n",
       "      <th></th>\n",
       "      <th>La</th>\n",
       "      <th>Lu</th>\n",
       "    </tr>\n",
       "  </thead>\n",
       "  <tbody>\n",
       "    <tr>\n",
       "      <th>0</th>\n",
       "      <td>66.515</td>\n",
       "      <td>148.534</td>\n",
       "    </tr>\n",
       "    <tr>\n",
       "      <th>1</th>\n",
       "      <td>61.888</td>\n",
       "      <td>168.871</td>\n",
       "    </tr>\n",
       "  </tbody>\n",
       "</table>\n",
       "</div>"
      ],
      "text/plain": [
       "       La       Lu\n",
       "0  66.515  148.534\n",
       "1  61.888  168.871"
      ]
     },
     "execution_count": 4,
     "metadata": {},
     "output_type": "execute_result"
    }
   ],
   "source": [
    "df.head(2).pyrochem.REE"
   ]
  },
  {
   "cell_type": "code",
   "execution_count": 5,
   "metadata": {
    "collapsed": false,
    "jupyter": {
     "outputs_hidden": false
    }
   },
   "outputs": [
    {
     "data": {
      "text/html": [
       "<div>\n",
       "<style scoped>\n",
       "    .dataframe tbody tr th:only-of-type {\n",
       "        vertical-align: middle;\n",
       "    }\n",
       "\n",
       "    .dataframe tbody tr th {\n",
       "        vertical-align: top;\n",
       "    }\n",
       "\n",
       "    .dataframe thead th {\n",
       "        text-align: right;\n",
       "    }\n",
       "</style>\n",
       "<table border=\"1\" class=\"dataframe\">\n",
       "  <thead>\n",
       "    <tr style=\"text-align: right;\">\n",
       "      <th></th>\n",
       "      <th>La</th>\n",
       "      <th>Lu</th>\n",
       "    </tr>\n",
       "  </thead>\n",
       "  <tbody>\n",
       "    <tr>\n",
       "      <th>0</th>\n",
       "      <td>66.515</td>\n",
       "      <td>148.534</td>\n",
       "    </tr>\n",
       "    <tr>\n",
       "      <th>1</th>\n",
       "      <td>61.888</td>\n",
       "      <td>168.871</td>\n",
       "    </tr>\n",
       "  </tbody>\n",
       "</table>\n",
       "</div>"
      ],
      "text/plain": [
       "       La       Lu\n",
       "0  66.515  148.534\n",
       "1  61.888  168.871"
      ]
     },
     "execution_count": 5,
     "metadata": {},
     "output_type": "execute_result"
    }
   ],
   "source": [
    "df.head(2).pyrochem.REY"
   ]
  },
  {
   "cell_type": "code",
   "execution_count": 6,
   "metadata": {
    "collapsed": false,
    "jupyter": {
     "outputs_hidden": false
    }
   },
   "outputs": [
    {
     "data": {
      "text/html": [
       "<div>\n",
       "<style scoped>\n",
       "    .dataframe tbody tr th:only-of-type {\n",
       "        vertical-align: middle;\n",
       "    }\n",
       "\n",
       "    .dataframe tbody tr th {\n",
       "        vertical-align: top;\n",
       "    }\n",
       "\n",
       "    .dataframe thead th {\n",
       "        text-align: right;\n",
       "    }\n",
       "</style>\n",
       "<table border=\"1\" class=\"dataframe\">\n",
       "  <thead>\n",
       "    <tr style=\"text-align: right;\">\n",
       "      <th></th>\n",
       "      <th>CaO</th>\n",
       "      <th>MgO</th>\n",
       "      <th>SiO2</th>\n",
       "      <th>FeO</th>\n",
       "      <th>Na2O</th>\n",
       "      <th>Ni</th>\n",
       "      <th>Ti</th>\n",
       "      <th>La</th>\n",
       "      <th>Lu</th>\n",
       "      <th>Te</th>\n",
       "    </tr>\n",
       "  </thead>\n",
       "  <tbody>\n",
       "    <tr>\n",
       "      <th>0</th>\n",
       "      <td>19.213</td>\n",
       "      <td>7.386</td>\n",
       "      <td>2.087</td>\n",
       "      <td>12.848</td>\n",
       "      <td>2.133</td>\n",
       "      <td>219.826</td>\n",
       "      <td>59.398</td>\n",
       "      <td>66.515</td>\n",
       "      <td>148.534</td>\n",
       "      <td>69.059</td>\n",
       "    </tr>\n",
       "    <tr>\n",
       "      <th>1</th>\n",
       "      <td>23.243</td>\n",
       "      <td>7.622</td>\n",
       "      <td>1.942</td>\n",
       "      <td>11.966</td>\n",
       "      <td>2.108</td>\n",
       "      <td>178.674</td>\n",
       "      <td>52.868</td>\n",
       "      <td>61.888</td>\n",
       "      <td>168.871</td>\n",
       "      <td>68.887</td>\n",
       "    </tr>\n",
       "  </tbody>\n",
       "</table>\n",
       "</div>"
      ],
      "text/plain": [
       "      CaO    MgO   SiO2     FeO   Na2O       Ni      Ti      La       Lu  \\\n",
       "0  19.213  7.386  2.087  12.848  2.133  219.826  59.398  66.515  148.534   \n",
       "1  23.243  7.622  1.942  11.966  2.108  178.674  52.868  61.888  168.871   \n",
       "\n",
       "       Te  \n",
       "0  69.059  \n",
       "1  68.887  "
      ]
     },
     "execution_count": 6,
     "metadata": {},
     "output_type": "execute_result"
    }
   ],
   "source": [
    "df.head(2).pyrochem.compositional"
   ]
  },
  {
   "cell_type": "code",
   "execution_count": 7,
   "metadata": {
    "collapsed": false,
    "jupyter": {
     "outputs_hidden": false
    }
   },
   "outputs": [
    {
     "data": {
      "text/html": [
       "<div>\n",
       "<style scoped>\n",
       "    .dataframe tbody tr th:only-of-type {\n",
       "        vertical-align: middle;\n",
       "    }\n",
       "\n",
       "    .dataframe tbody tr th {\n",
       "        vertical-align: top;\n",
       "    }\n",
       "\n",
       "    .dataframe thead th {\n",
       "        text-align: right;\n",
       "    }\n",
       "</style>\n",
       "<table border=\"1\" class=\"dataframe\">\n",
       "  <thead>\n",
       "    <tr style=\"text-align: right;\">\n",
       "      <th></th>\n",
       "      <th>Sr87/Sr86</th>\n",
       "    </tr>\n",
       "  </thead>\n",
       "  <tbody>\n",
       "    <tr>\n",
       "      <th>0</th>\n",
       "      <td>0.71</td>\n",
       "    </tr>\n",
       "    <tr>\n",
       "      <th>1</th>\n",
       "      <td>0.71</td>\n",
       "    </tr>\n",
       "  </tbody>\n",
       "</table>\n",
       "</div>"
      ],
      "text/plain": [
       "   Sr87/Sr86\n",
       "0       0.71\n",
       "1       0.71"
      ]
     },
     "execution_count": 7,
     "metadata": {},
     "output_type": "execute_result"
    }
   ],
   "source": [
    "df.head(2).pyrochem.isotope_ratios"
   ]
  },
  {
   "cell_type": "markdown",
   "metadata": {},
   "source": [
    "------\n",
    "### Listing Columns\n",
    "If you just want the column names, it's easy enough to get those too (these are actually used in the indexing above):"
   ]
  },
  {
   "cell_type": "code",
   "execution_count": 8,
   "metadata": {
    "collapsed": false,
    "jupyter": {
     "outputs_hidden": false
    }
   },
   "outputs": [
    {
     "data": {
      "text/plain": [
       "['CaO', 'MgO', 'SiO2', 'FeO', 'Na2O']"
      ]
     },
     "execution_count": 8,
     "metadata": {},
     "output_type": "execute_result"
    }
   ],
   "source": [
    "df.pyrochem.list_oxides"
   ]
  },
  {
   "cell_type": "code",
   "execution_count": 9,
   "metadata": {
    "collapsed": false,
    "jupyter": {
     "outputs_hidden": false
    }
   },
   "outputs": [
    {
     "data": {
      "text/plain": [
       "['Ni', 'Ti', 'La', 'Lu', 'Te']"
      ]
     },
     "execution_count": 9,
     "metadata": {},
     "output_type": "execute_result"
    }
   ],
   "source": [
    "df.pyrochem.list_elements"
   ]
  },
  {
   "cell_type": "code",
   "execution_count": 10,
   "metadata": {
    "collapsed": false,
    "jupyter": {
     "outputs_hidden": false
    }
   },
   "outputs": [
    {
     "data": {
      "text/plain": [
       "['La', 'Lu']"
      ]
     },
     "execution_count": 10,
     "metadata": {},
     "output_type": "execute_result"
    }
   ],
   "source": [
    "df.pyrochem.list_REE"
   ]
  },
  {
   "cell_type": "code",
   "execution_count": 11,
   "metadata": {
    "collapsed": false,
    "jupyter": {
     "outputs_hidden": false
    }
   },
   "outputs": [
    {
     "data": {
      "text/plain": [
       "['CaO', 'MgO', 'SiO2', 'FeO', 'Na2O', 'Ni', 'Ti', 'La', 'Lu', 'Te']"
      ]
     },
     "execution_count": 11,
     "metadata": {},
     "output_type": "execute_result"
    }
   ],
   "source": [
    "df.pyrochem.list_compositional"
   ]
  },
  {
   "cell_type": "code",
   "execution_count": 12,
   "metadata": {
    "collapsed": false,
    "jupyter": {
     "outputs_hidden": false
    }
   },
   "outputs": [
    {
     "data": {
      "text/plain": [
       "['Sr87/Sr86']"
      ]
     },
     "execution_count": 12,
     "metadata": {},
     "output_type": "execute_result"
    }
   ],
   "source": [
    "df.pyrochem.list_isotope_ratios"
   ]
  }
 ],
 "metadata": {
  "kernelspec": {
   "display_name": "pyrolite",
   "language": "python",
   "name": "pyrolite"
  },
  "language_info": {
   "codemirror_mode": {
    "name": "ipython",
    "version": 3
   },
   "file_extension": ".py",
   "mimetype": "text/x-python",
   "name": "python",
   "nbconvert_exporter": "python",
   "pygments_lexer": "ipython3",
   "version": "3.7.9"
  }
 },
 "nbformat": 4,
 "nbformat_minor": 4
}
